{
 "cells": [
  {
   "cell_type": "code",
   "execution_count": 1,
   "metadata": {},
   "outputs": [],
   "source": [
    "import pandas as pd\n",
    "import plotly.graph_objects as go\n",
    "import numpy as np\n",
    "import tadasets"
   ]
  },
  {
   "cell_type": "code",
   "execution_count": 2,
   "metadata": {
    "scrolled": true
   },
   "outputs": [
    {
     "data": {
      "application/vnd.plotly.v1+json": {
       "config": {
        "plotlyServerURL": "https://plot.ly"
       },
       "data": [
        {
         "marker": {
          "colorscale": [
           [
            0,
            "#ff0000"
           ],
           [
            0.1111111111111111,
            "#ffa700"
           ],
           [
            0.2222222222222222,
            "#afff00"
           ],
           [
            0.3333333333333333,
            "#08ff00"
           ],
           [
            0.4444444444444444,
            "#00ff9f"
           ],
           [
            0.5555555555555556,
            "#00b7ff"
           ],
           [
            0.6666666666666666,
            "#0010ff"
           ],
           [
            0.7777777777777778,
            "#9700ff"
           ],
           [
            0.8888888888888888,
            "#ff00bf"
           ],
           [
            1,
            "#ff0000"
           ]
          ],
          "opacity": 0.8,
          "size": 3
         },
         "mode": "markers",
         "type": "scatter3d",
         "x": [
          -0.6858412686719673,
          0.8345662629845398,
          -0.6412231501490552,
          0.20891551598720348,
          -0.13086546790362588,
          0.27001713623081247,
          -0.7130156598297671,
          0.7413149602903976,
          0.7720438043244465,
          0.16108340608357516,
          -0.12858945921863157,
          -0.0861101020317771,
          -0.770938723738264,
          0.49612178246642863,
          -0.6937140328906393,
          0.5510388265020897,
          -0.5275434875539775,
          0.07913117562007961,
          -0.592205946149332,
          0.06673569451361577,
          -0.5344427179601478,
          -0.4683624997145692,
          0.7340160606170193,
          0.2827045265784723,
          0.6692934671923784,
          -0.1783929163763187,
          0.27161599641730233,
          -0.8398173041794055,
          0.3039744759795396,
          0.3007593802130811,
          0.7275512340982399,
          0.2806725941305371,
          -0.7434989126770184,
          -0.8356775574154933,
          -0.6190971849773044,
          0.9964722877746645,
          -0.8980517088658317,
          -0.2100327425263978,
          -0.6904577231210721,
          0.5600242019220775,
          -0.7324953535052492,
          -0.6964635246834002,
          -0.11827695699200229,
          -0.2761930769872069,
          -0.8536769153383474,
          -0.7325561819059787,
          0.3538165896326467,
          -0.9235447038669365,
          0.5472807398952156,
          -0.6945505333667078,
          -0.6578909540321616,
          0.02193529402873356,
          0.5652478293366889,
          0.1298924611276941,
          0.36213342603198123,
          -0.2632857727557375,
          0.20373116919780265,
          -0.6943715262086193,
          -0.5704400491881148,
          -0.3722570086172249,
          -0.6787694410180094,
          -0.5995057982855729,
          -0.20651053644367984,
          0.7415524595900341,
          0.2546704782281593,
          -0.6042403979024176,
          0.7580464211858216,
          0.10882941141594941,
          0.1805898850761543,
          -0.7655857003696569,
          0.5793932353415369,
          -0.7558421664331331,
          0.3972382646781101,
          -0.34462900936946395,
          0.1859118386795929,
          0.4953370630705026,
          0.966250332991658,
          0.24349823498272605,
          -0.29123767377537624,
          0.1967268968883528
         ],
         "y": [
          0.3115110374625918,
          -0.10025286881257664,
          0.39930324589655664,
          0.7378115804945283,
          0.9838635423290263,
          0.7876467551362519,
          0.5125487025402972,
          -0.5755579352416151,
          -0.39359095596829574,
          -0.5130304727382344,
          0.3340844966173763,
          0.8471563027327134,
          0.547482530125582,
          -0.7139577560692568,
          -0.05355158733248509,
          0.489618576888845,
          -0.5992613334014548,
          0.9277904241706371,
          0.43682976871034906,
          -0.10924050248847608,
          0.6880122244859178,
          -0.5233776027270799,
          0.151911705241379,
          0.9381608521494812,
          0.23897982689232905,
          -0.06301123577790299,
          -0.12823413164435937,
          -0.4767008572860502,
          0.49503210155170546,
          0.6835611027865952,
          -0.09529842285366372,
          -0.9439507729992525,
          0.6687188973092565,
          -0.5158574510662589,
          -0.7727536879631293,
          -0.015621840127474335,
          0.04960127673402804,
          -0.33361972443016136,
          0.6436962946548436,
          -0.36412329136717486,
          0.18281867901966828,
          -0.09420499797990403,
          0.5679446456957828,
          0.9371574448249609,
          0.014061867359101832,
          0.42302255371408215,
          0.3824485483412106,
          -0.36506758397983097,
          -0.0059429537913268105,
          0.046602968428034026,
          0.3123865549889119,
          0.3870284297848375,
          -0.7273255579647044,
          -0.5148464340102982,
          -0.8890468948999802,
          0.3357405704652085,
          -0.9300526006280919,
          -0.6260154059862717,
          -0.10401422849019304,
          -0.7655513474035841,
          -0.32894180711455046,
          -0.7075640514505062,
          0.9292729833019183,
          0.35111264740899234,
          -0.29939687461178865,
          -0.2743554413647533,
          -0.4760526148268076,
          -0.02898129693381556,
          0.5782991847530801,
          0.27235301248789345,
          0.649858354265266,
          -0.4299175978370467,
          -0.9148764253571375,
          -0.45158608993739685,
          -0.8390977914378812,
          0.8371414560229667,
          0.2160234714072625,
          0.6752461484609177,
          -0.9312116858894892,
          -0.39447418803547407
         ],
         "z": [
          -0.6577101395944922,
          0.5417088839800102,
          0.6552784061217004,
          -0.6418632088443508,
          0.12201130843551046,
          0.5538080310586367,
          0.4784375574322945,
          0.3452320854585438,
          -0.49903358963520555,
          -0.8431203178233209,
          -0.9337303144365476,
          -0.5243197965634296,
          0.3254479427621378,
          -0.49409260216166473,
          0.7182569652044983,
          -0.6757439314211724,
          -0.6021492531169468,
          -0.36461374886618514,
          -0.6771055091445035,
          -0.9917725846653811,
          0.4909278563875847,
          0.7118373787774672,
          -0.6619239054203501,
          0.19983084383097885,
          0.7035160958443789,
          -0.9819396883477586,
          0.953824280447742,
          0.25973676725404254,
          -0.8139672821350169,
          -0.6650473772379056,
          -0.6794022463634724,
          -0.1737234384248381,
          0.004939962508296728,
          0.1885049341834243,
          -0.13989429328089134,
          0.08245567177676622,
          0.4370844787332463,
          0.9190125823610812,
          0.33003516908064495,
          -0.744168745611824,
          0.6557651162533148,
          0.7113817379868429,
          -0.8145240578830093,
          0.21319781385719924,
          -0.5206130886798555,
          0.5333041903084497,
          -0.8535496053378643,
          0.11743440333420788,
          -0.8369279975242669,
          0.7179329494693201,
          0.685269387076945,
          -0.9218068330263971,
          -0.38922027717154317,
          -0.8473848582132385,
          -0.2800981978147004,
          -0.9044107867601483,
          -0.30577078140695435,
          -0.3548984292139883,
          -0.8147264513650279,
          0.5247436078923805,
          0.6565587052749458,
          0.374093452117146,
          0.3062762165805508,
          -0.5716816058833969,
          -0.9195131641209567,
          0.7480792961553472,
          0.44580212117477347,
          -0.9936378835566264,
          0.7955861652405126,
          0.5828399196848747,
          -0.49192234979934224,
          0.4938354771699694,
          -0.0721310432564904,
          -0.8229828973168734,
          0.5112256689983817,
          -0.23202451714514163,
          0.14033586068666037,
          -0.6962407978199735,
          0.2191470132964695,
          0.8976016059558009
         ]
        }
       ],
       "layout": {
        "scene": {
         "aspectmode": "data"
        },
        "template": {
         "data": {
          "bar": [
           {
            "error_x": {
             "color": "#2a3f5f"
            },
            "error_y": {
             "color": "#2a3f5f"
            },
            "marker": {
             "line": {
              "color": "#E5ECF6",
              "width": 0.5
             },
             "pattern": {
              "fillmode": "overlay",
              "size": 10,
              "solidity": 0.2
             }
            },
            "type": "bar"
           }
          ],
          "barpolar": [
           {
            "marker": {
             "line": {
              "color": "#E5ECF6",
              "width": 0.5
             },
             "pattern": {
              "fillmode": "overlay",
              "size": 10,
              "solidity": 0.2
             }
            },
            "type": "barpolar"
           }
          ],
          "carpet": [
           {
            "aaxis": {
             "endlinecolor": "#2a3f5f",
             "gridcolor": "white",
             "linecolor": "white",
             "minorgridcolor": "white",
             "startlinecolor": "#2a3f5f"
            },
            "baxis": {
             "endlinecolor": "#2a3f5f",
             "gridcolor": "white",
             "linecolor": "white",
             "minorgridcolor": "white",
             "startlinecolor": "#2a3f5f"
            },
            "type": "carpet"
           }
          ],
          "choropleth": [
           {
            "colorbar": {
             "outlinewidth": 0,
             "ticks": ""
            },
            "type": "choropleth"
           }
          ],
          "contour": [
           {
            "colorbar": {
             "outlinewidth": 0,
             "ticks": ""
            },
            "colorscale": [
             [
              0,
              "#0d0887"
             ],
             [
              0.1111111111111111,
              "#46039f"
             ],
             [
              0.2222222222222222,
              "#7201a8"
             ],
             [
              0.3333333333333333,
              "#9c179e"
             ],
             [
              0.4444444444444444,
              "#bd3786"
             ],
             [
              0.5555555555555556,
              "#d8576b"
             ],
             [
              0.6666666666666666,
              "#ed7953"
             ],
             [
              0.7777777777777778,
              "#fb9f3a"
             ],
             [
              0.8888888888888888,
              "#fdca26"
             ],
             [
              1,
              "#f0f921"
             ]
            ],
            "type": "contour"
           }
          ],
          "contourcarpet": [
           {
            "colorbar": {
             "outlinewidth": 0,
             "ticks": ""
            },
            "type": "contourcarpet"
           }
          ],
          "heatmap": [
           {
            "colorbar": {
             "outlinewidth": 0,
             "ticks": ""
            },
            "colorscale": [
             [
              0,
              "#0d0887"
             ],
             [
              0.1111111111111111,
              "#46039f"
             ],
             [
              0.2222222222222222,
              "#7201a8"
             ],
             [
              0.3333333333333333,
              "#9c179e"
             ],
             [
              0.4444444444444444,
              "#bd3786"
             ],
             [
              0.5555555555555556,
              "#d8576b"
             ],
             [
              0.6666666666666666,
              "#ed7953"
             ],
             [
              0.7777777777777778,
              "#fb9f3a"
             ],
             [
              0.8888888888888888,
              "#fdca26"
             ],
             [
              1,
              "#f0f921"
             ]
            ],
            "type": "heatmap"
           }
          ],
          "heatmapgl": [
           {
            "colorbar": {
             "outlinewidth": 0,
             "ticks": ""
            },
            "colorscale": [
             [
              0,
              "#0d0887"
             ],
             [
              0.1111111111111111,
              "#46039f"
             ],
             [
              0.2222222222222222,
              "#7201a8"
             ],
             [
              0.3333333333333333,
              "#9c179e"
             ],
             [
              0.4444444444444444,
              "#bd3786"
             ],
             [
              0.5555555555555556,
              "#d8576b"
             ],
             [
              0.6666666666666666,
              "#ed7953"
             ],
             [
              0.7777777777777778,
              "#fb9f3a"
             ],
             [
              0.8888888888888888,
              "#fdca26"
             ],
             [
              1,
              "#f0f921"
             ]
            ],
            "type": "heatmapgl"
           }
          ],
          "histogram": [
           {
            "marker": {
             "pattern": {
              "fillmode": "overlay",
              "size": 10,
              "solidity": 0.2
             }
            },
            "type": "histogram"
           }
          ],
          "histogram2d": [
           {
            "colorbar": {
             "outlinewidth": 0,
             "ticks": ""
            },
            "colorscale": [
             [
              0,
              "#0d0887"
             ],
             [
              0.1111111111111111,
              "#46039f"
             ],
             [
              0.2222222222222222,
              "#7201a8"
             ],
             [
              0.3333333333333333,
              "#9c179e"
             ],
             [
              0.4444444444444444,
              "#bd3786"
             ],
             [
              0.5555555555555556,
              "#d8576b"
             ],
             [
              0.6666666666666666,
              "#ed7953"
             ],
             [
              0.7777777777777778,
              "#fb9f3a"
             ],
             [
              0.8888888888888888,
              "#fdca26"
             ],
             [
              1,
              "#f0f921"
             ]
            ],
            "type": "histogram2d"
           }
          ],
          "histogram2dcontour": [
           {
            "colorbar": {
             "outlinewidth": 0,
             "ticks": ""
            },
            "colorscale": [
             [
              0,
              "#0d0887"
             ],
             [
              0.1111111111111111,
              "#46039f"
             ],
             [
              0.2222222222222222,
              "#7201a8"
             ],
             [
              0.3333333333333333,
              "#9c179e"
             ],
             [
              0.4444444444444444,
              "#bd3786"
             ],
             [
              0.5555555555555556,
              "#d8576b"
             ],
             [
              0.6666666666666666,
              "#ed7953"
             ],
             [
              0.7777777777777778,
              "#fb9f3a"
             ],
             [
              0.8888888888888888,
              "#fdca26"
             ],
             [
              1,
              "#f0f921"
             ]
            ],
            "type": "histogram2dcontour"
           }
          ],
          "mesh3d": [
           {
            "colorbar": {
             "outlinewidth": 0,
             "ticks": ""
            },
            "type": "mesh3d"
           }
          ],
          "parcoords": [
           {
            "line": {
             "colorbar": {
              "outlinewidth": 0,
              "ticks": ""
             }
            },
            "type": "parcoords"
           }
          ],
          "pie": [
           {
            "automargin": true,
            "type": "pie"
           }
          ],
          "scatter": [
           {
            "fillpattern": {
             "fillmode": "overlay",
             "size": 10,
             "solidity": 0.2
            },
            "type": "scatter"
           }
          ],
          "scatter3d": [
           {
            "line": {
             "colorbar": {
              "outlinewidth": 0,
              "ticks": ""
             }
            },
            "marker": {
             "colorbar": {
              "outlinewidth": 0,
              "ticks": ""
             }
            },
            "type": "scatter3d"
           }
          ],
          "scattercarpet": [
           {
            "marker": {
             "colorbar": {
              "outlinewidth": 0,
              "ticks": ""
             }
            },
            "type": "scattercarpet"
           }
          ],
          "scattergeo": [
           {
            "marker": {
             "colorbar": {
              "outlinewidth": 0,
              "ticks": ""
             }
            },
            "type": "scattergeo"
           }
          ],
          "scattergl": [
           {
            "marker": {
             "colorbar": {
              "outlinewidth": 0,
              "ticks": ""
             }
            },
            "type": "scattergl"
           }
          ],
          "scattermapbox": [
           {
            "marker": {
             "colorbar": {
              "outlinewidth": 0,
              "ticks": ""
             }
            },
            "type": "scattermapbox"
           }
          ],
          "scatterpolar": [
           {
            "marker": {
             "colorbar": {
              "outlinewidth": 0,
              "ticks": ""
             }
            },
            "type": "scatterpolar"
           }
          ],
          "scatterpolargl": [
           {
            "marker": {
             "colorbar": {
              "outlinewidth": 0,
              "ticks": ""
             }
            },
            "type": "scatterpolargl"
           }
          ],
          "scatterternary": [
           {
            "marker": {
             "colorbar": {
              "outlinewidth": 0,
              "ticks": ""
             }
            },
            "type": "scatterternary"
           }
          ],
          "surface": [
           {
            "colorbar": {
             "outlinewidth": 0,
             "ticks": ""
            },
            "colorscale": [
             [
              0,
              "#0d0887"
             ],
             [
              0.1111111111111111,
              "#46039f"
             ],
             [
              0.2222222222222222,
              "#7201a8"
             ],
             [
              0.3333333333333333,
              "#9c179e"
             ],
             [
              0.4444444444444444,
              "#bd3786"
             ],
             [
              0.5555555555555556,
              "#d8576b"
             ],
             [
              0.6666666666666666,
              "#ed7953"
             ],
             [
              0.7777777777777778,
              "#fb9f3a"
             ],
             [
              0.8888888888888888,
              "#fdca26"
             ],
             [
              1,
              "#f0f921"
             ]
            ],
            "type": "surface"
           }
          ],
          "table": [
           {
            "cells": {
             "fill": {
              "color": "#EBF0F8"
             },
             "line": {
              "color": "white"
             }
            },
            "header": {
             "fill": {
              "color": "#C8D4E3"
             },
             "line": {
              "color": "white"
             }
            },
            "type": "table"
           }
          ]
         },
         "layout": {
          "annotationdefaults": {
           "arrowcolor": "#2a3f5f",
           "arrowhead": 0,
           "arrowwidth": 1
          },
          "autotypenumbers": "strict",
          "coloraxis": {
           "colorbar": {
            "outlinewidth": 0,
            "ticks": ""
           }
          },
          "colorscale": {
           "diverging": [
            [
             0,
             "#8e0152"
            ],
            [
             0.1,
             "#c51b7d"
            ],
            [
             0.2,
             "#de77ae"
            ],
            [
             0.3,
             "#f1b6da"
            ],
            [
             0.4,
             "#fde0ef"
            ],
            [
             0.5,
             "#f7f7f7"
            ],
            [
             0.6,
             "#e6f5d0"
            ],
            [
             0.7,
             "#b8e186"
            ],
            [
             0.8,
             "#7fbc41"
            ],
            [
             0.9,
             "#4d9221"
            ],
            [
             1,
             "#276419"
            ]
           ],
           "sequential": [
            [
             0,
             "#0d0887"
            ],
            [
             0.1111111111111111,
             "#46039f"
            ],
            [
             0.2222222222222222,
             "#7201a8"
            ],
            [
             0.3333333333333333,
             "#9c179e"
            ],
            [
             0.4444444444444444,
             "#bd3786"
            ],
            [
             0.5555555555555556,
             "#d8576b"
            ],
            [
             0.6666666666666666,
             "#ed7953"
            ],
            [
             0.7777777777777778,
             "#fb9f3a"
            ],
            [
             0.8888888888888888,
             "#fdca26"
            ],
            [
             1,
             "#f0f921"
            ]
           ],
           "sequentialminus": [
            [
             0,
             "#0d0887"
            ],
            [
             0.1111111111111111,
             "#46039f"
            ],
            [
             0.2222222222222222,
             "#7201a8"
            ],
            [
             0.3333333333333333,
             "#9c179e"
            ],
            [
             0.4444444444444444,
             "#bd3786"
            ],
            [
             0.5555555555555556,
             "#d8576b"
            ],
            [
             0.6666666666666666,
             "#ed7953"
            ],
            [
             0.7777777777777778,
             "#fb9f3a"
            ],
            [
             0.8888888888888888,
             "#fdca26"
            ],
            [
             1,
             "#f0f921"
            ]
           ]
          },
          "colorway": [
           "#636efa",
           "#EF553B",
           "#00cc96",
           "#ab63fa",
           "#FFA15A",
           "#19d3f3",
           "#FF6692",
           "#B6E880",
           "#FF97FF",
           "#FECB52"
          ],
          "font": {
           "color": "#2a3f5f"
          },
          "geo": {
           "bgcolor": "white",
           "lakecolor": "white",
           "landcolor": "#E5ECF6",
           "showlakes": true,
           "showland": true,
           "subunitcolor": "white"
          },
          "hoverlabel": {
           "align": "left"
          },
          "hovermode": "closest",
          "mapbox": {
           "style": "light"
          },
          "paper_bgcolor": "white",
          "plot_bgcolor": "#E5ECF6",
          "polar": {
           "angularaxis": {
            "gridcolor": "white",
            "linecolor": "white",
            "ticks": ""
           },
           "bgcolor": "#E5ECF6",
           "radialaxis": {
            "gridcolor": "white",
            "linecolor": "white",
            "ticks": ""
           }
          },
          "scene": {
           "xaxis": {
            "backgroundcolor": "#E5ECF6",
            "gridcolor": "white",
            "gridwidth": 2,
            "linecolor": "white",
            "showbackground": true,
            "ticks": "",
            "zerolinecolor": "white"
           },
           "yaxis": {
            "backgroundcolor": "#E5ECF6",
            "gridcolor": "white",
            "gridwidth": 2,
            "linecolor": "white",
            "showbackground": true,
            "ticks": "",
            "zerolinecolor": "white"
           },
           "zaxis": {
            "backgroundcolor": "#E5ECF6",
            "gridcolor": "white",
            "gridwidth": 2,
            "linecolor": "white",
            "showbackground": true,
            "ticks": "",
            "zerolinecolor": "white"
           }
          },
          "shapedefaults": {
           "line": {
            "color": "#2a3f5f"
           }
          },
          "ternary": {
           "aaxis": {
            "gridcolor": "white",
            "linecolor": "white",
            "ticks": ""
           },
           "baxis": {
            "gridcolor": "white",
            "linecolor": "white",
            "ticks": ""
           },
           "bgcolor": "#E5ECF6",
           "caxis": {
            "gridcolor": "white",
            "linecolor": "white",
            "ticks": ""
           }
          },
          "title": {
           "x": 0.05
          },
          "xaxis": {
           "automargin": true,
           "gridcolor": "white",
           "linecolor": "white",
           "ticks": "",
           "title": {
            "standoff": 15
           },
           "zerolinecolor": "white",
           "zerolinewidth": 2
          },
          "yaxis": {
           "automargin": true,
           "gridcolor": "white",
           "linecolor": "white",
           "ticks": "",
           "title": {
            "standoff": 15
           },
           "zerolinecolor": "white",
           "zerolinewidth": 2
          }
         }
        }
       }
      }
     },
     "metadata": {},
     "output_type": "display_data"
    }
   ],
   "source": [
    "\"\"\"\n",
    "Generate points to send to Mayer-Vietoris\n",
    "\"\"\"\n",
    "\n",
    "layout =go. Layout(\n",
    "             scene=dict(\n",
    "                 aspectmode='data'\n",
    "         ))\n",
    "\n",
    "#points = tadasets.torus(n=300, noise=0)\n",
    "#points = tadasets.dsphere(n=100, d=2, r=1, noise =0, ambient = 12)\n",
    "points = tadasets.dsphere(n=80, d=2, r=1, noise =0.0)\n",
    "\n",
    "x = points[:,0]\n",
    "y = points[:,1]\n",
    "#z = np.zeros(points[:,1].shape[0])\n",
    "z = points[:,2]\n",
    "fig = go.Figure(data=[go.Scatter3d(\n",
    "    x=x,\n",
    "    y=y,\n",
    "    z=z,\n",
    "    mode='markers',\n",
    "    #text = [str(x) for x in c],\n",
    "    marker=dict(\n",
    "        size=3,\n",
    "        #color = c,             # set color to an array/list of desired values\n",
    "        colorscale='HSV',\n",
    "        # choose a colorscale\n",
    "        opacity=0.8\n",
    "    )\n",
    ")],layout = layout)\n",
    "\n",
    "\n",
    "\"\"\"\n",
    "#\n",
    "cyl0 = []\n",
    "N = 10\n",
    "y = 0\n",
    "z = 0\n",
    "step_x = 0.02\n",
    "c = np.ones(20)\n",
    "c[:2] = np.array([0.3,0.7])\n",
    "c[-3:] = np.array([0.3,0.7,1,])[::-1]\n",
    "for i in range(20):\n",
    "    cyl0 += list(tadasets.dsphere(n=N, d=1, noise=0)*c[i])\n",
    "cyl0 = np.array(cyl0)\n",
    "step = 0.1\n",
    "cyl0 = np.c_[cyl0,np.zeros(cyl0.shape[0]) - 1.13]\n",
    "cyl0[:,0] += -1.3\n",
    "cyl0[:,1] += -12\n",
    "for i in range(cyl0.shape[0]):\n",
    "    cyl0[i,-1] -= step\n",
    "    step += step_x\n",
    "\n",
    "    \n",
    "center = np.average(cyl0, axis = 0)\n",
    "\n",
    "points = cyl0 - center # center points\n",
    "x =  points[:,0]\n",
    "y =  points[:,1] \n",
    "z =  points[:,2] \n",
    "fig = go.Figure(data=[go.Scatter3d(\n",
    "    x=x,\n",
    "    y=y,\n",
    "    z=z,\n",
    "    mode='markers',\n",
    "    marker=dict(\n",
    "        size=3,\n",
    "                      # set color to an array/list of desired values\n",
    "          # choose a colorscale\n",
    "        opacity=0.8\n",
    "    )\n",
    ")])\n",
    "\"\"\"\n",
    "#OK\n",
    "\n",
    "\"\"\"\n",
    "SEND TO circ_coords\n",
    "\"\"\"\n",
    "df = pd.DataFrame()\n",
    "for i in range(points.shape[1]):\n",
    "    df[str(i)] = points[:,i]\n",
    "    #print(\"ij\")\n",
    "df.to_csv(\"cool_big_data.csv\",index=False,header = False)\n",
    "fig.show()"
   ]
  },
  {
   "cell_type": "code",
   "execution_count": null,
   "metadata": {},
   "outputs": [],
   "source": []
  }
 ],
 "metadata": {
  "kernelspec": {
   "display_name": "Python 3.10.6 ('test')",
   "language": "python",
   "name": "python3"
  },
  "language_info": {
   "codemirror_mode": {
    "name": "ipython",
    "version": 3
   },
   "file_extension": ".py",
   "mimetype": "text/x-python",
   "name": "python",
   "nbconvert_exporter": "python",
   "pygments_lexer": "ipython3",
   "version": "3.10.6"
  },
  "vscode": {
   "interpreter": {
    "hash": "a8aac0b6a3e67f35bcd67088a857342b2a6b50e1135570ee0f841fb10732c056"
   }
  }
 },
 "nbformat": 4,
 "nbformat_minor": 4
}
