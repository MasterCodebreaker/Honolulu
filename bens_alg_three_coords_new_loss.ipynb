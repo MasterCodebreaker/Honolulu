{
 "cells": [
  {
   "cell_type": "code",
   "execution_count": 68,
   "metadata": {},
   "outputs": [
    {
     "data": {
      "text/plain": [
       "mv (generic function with 1 method)"
      ]
     },
     "metadata": {},
     "output_type": "display_data"
    }
   ],
   "source": [
    "using LinearAlgebra\n",
    "using Plots\n",
    "using Ripserer\n",
    "using Distances\n",
    "using Plots\n",
    "using DataFrames, CSV\n",
    "using DelimitedFiles\n",
    "using AbstractAlgebra\n",
    "using MultivariateStats #for pca\n",
    "using IterativeSolvers\n",
    "using NearestNeighbors\n",
    "include(\"mv_function_bens_alg_no_save.jl\")\n"
   ]
  },
  {
   "cell_type": "code",
   "execution_count": 69,
   "metadata": {},
   "outputs": [
    {
     "data": {
      "text/plain": [
       "Any[]"
      ]
     },
     "metadata": {},
     "output_type": "display_data"
    }
   ],
   "source": [
    "#Globals\n",
    "K = 5 # in KNN\n",
    "#OG_K = 10\n",
    "ITER = 30    # iterations of algorithm\n",
    "KKK = 2\n",
    "OG_K = K\n",
    "break_count = KKK #iterations before breakingxs\n",
    "min_loss = 1000\n",
    "min_loss_2 = 1000\n",
    "input_file =\"./cool_big_data.csv\"\n",
    "output_file =\"./point_color\"\n",
    "\n",
    "a_ = []\n",
    "b_ = []\n",
    "c_ = []\n",
    "d_ = []\n",
    "e_ = []\n",
    "f_ = []\n",
    "\n",
    "loss_ = []\n",
    "loss_2 = []\n"
   ]
  },
  {
   "cell_type": "code",
   "execution_count": 70,
   "metadata": {},
   "outputs": [
    {
     "data": {
      "text/plain": [
       "loss (generic function with 1 method)"
      ]
     },
     "metadata": {},
     "output_type": "display_data"
    }
   ],
   "source": [
    "# Loss function 0.5 instead of pi\n",
    "\n",
    "function loss(points, coord_ab, coord_cd, coord_ef)\n",
    "    a_cd = mod(coord_cd[points[1]],1.0)\n",
    "    b_cd = mod(coord_cd[points[2]],1.0)\n",
    "\n",
    "    c_ab = mod(coord_ab[points[3]],1.0)\n",
    "    d_ab = mod(coord_ab[points[4]],1.0)\n",
    "\n",
    "    e_ab = mod(coord_ab[points[5]],1.0)\n",
    "    f_ab = mod(coord_ab[points[6]],1.0)\n",
    "\n",
    "    e_cd = mod(coord_cd[points[5]],1.0)\n",
    "    f_cd = mod(coord_cd[points[6]],1.0)\n",
    "\n",
    "    a_ef = mod(coord_ef[points[1]],1.0)\n",
    "    b_ef = mod(coord_ef[points[2]],1.0)\n",
    "    c_ef = mod(coord_ef[points[3]],1.0)\n",
    "    d_ef = mod(coord_ef[points[4]],1.0)\n",
    "\n",
    "\n",
    "    dif_1 = 0.5 - mod(c_ab-d_ab,1.0)\n",
    "    dif_2 = 0.5 - mod(e_ab-f_ab,1.0)\n",
    "    dif_3 = 0.5 -  mod(a_cd-b_cd,1.0)\n",
    "    dif_4 = 0.5 - mod(e_cd-f_cd,1.0)\n",
    "    dif_5 = 0.5 -  mod(a_ef-b_ef,1.0)\n",
    "    dif_6 = 0.5 -  mod(c_ef-d_ef,1.0)\n",
    "\n",
    "\n",
    "    A = (0.25 - mod(c_ab - e_ab, 0.5))^2 + (0.25 - mod(e_ab - d_ab, 0.5))^2 #+ (0.25 - mod(d_ab - f_ab,0.5))^2 + + (0.25 - mod(f_ab - c_ab, 0.5))^2\n",
    "    B =  (0.25 - mod(a_cd - e_cd, 0.5))^2 + (0.25 - mod(e_cd - b_cd, 0.5))^2 #+ (0.25 - mod(b_cd - f_cd,0.5))^2 + (0.25 - mod(f_cd - a_cd, 0.5))^2\n",
    "    C =  (0.25 - mod(a_ef - c_ef, 0.5))^2 + (0.25 - mod(c_ef - b_ef, 0.5))^2  #+ (0.25 - mod(b_ef - d_ef,0.5))^2 + (0.25 - mod(d_ef - a_ef, 0.5))^2 \n",
    "\n",
    "    #loss = max(A,B,C)\n",
    "    loss = A + B + C\n",
    "    loss +=  dif_1^2 + dif_2^2 +  dif_3^2 + dif_4^2 + dif_5^2 + dif_6^2  \n",
    "    #loss += dif_1^2 + dif_2^2 + dif_3^2 + dif_4^2 + dif_5^2 + dif_6^2\n",
    "    \n",
    "    \n",
    "    return loss\n",
    "end"
   ]
  },
  {
   "cell_type": "code",
   "execution_count": 71,
   "metadata": {},
   "outputs": [
    {
     "data": {
      "text/plain": [
       "KDTree{StaticArraysCore.SVector{3, Float64}, Euclidean, Float64}\n",
       "  Number of points: 80\n",
       "  Dimensions: 3\n",
       "  Metric: Euclidean(0.0)\n",
       "  Reordered: true"
      ]
     },
     "metadata": {},
     "output_type": "display_data"
    }
   ],
   "source": [
    "# Load Data\n",
    "matrix = readdlm(input_file, ',', Float64)\n",
    "data = []\n",
    "for row in 1:length(matrix[:,1])\n",
    "    arr = [matrix[row,i] for i in 1:length(matrix[1,:])]\n",
    "    push!(data, arr)\n",
    "end\n",
    "\n",
    "# Do zeroth iteration of algerithm with random points\n",
    "l = length(matrix[:,1])\n",
    "# Random distinct start points,\n",
    "# Could be issues with distinct points yielding same piercing hole, and therefore cant do MV\n",
    "#a_0,b_0,c_0,d_0,e_0,f_0 = rand(1:15), rand(15:30), rand(30:45), rand(45:60), rand(60:75), rand(75:100)\n",
    "a_0,b_0,c_0 = rand(1:floor(Int, l/6)), rand(floor(Int, l/6):floor(Int, 2*l/6)), rand(floor(Int, 2*l/6):floor(Int,3*l/6))\n",
    "d_0,e_0,f_0 = rand(floor(Int, 3*l/6):floor(Int,4*l/6)),rand(floor(Int, 4*l/6):floor(Int,4*l/6)),rand(floor(Int, 5*l/6):l)\n",
    "\n",
    "\n",
    "# Store to see progress \n",
    "\"\"\"\n",
    "push!(a_, a_0)\n",
    "push!(b_, b_0)\n",
    "push!(c_, c_0)\n",
    "push!(d_, d_0)\n",
    "push!(e_, e_0)\n",
    "push!(f_, f_0)\n",
    "\"\"\"\n",
    "\n",
    "# Dinstance matrix for KNN\n",
    "data_matrix = zeros(Float64, (3, length(data)))\n",
    "    \n",
    "for col in 1:length(data)\n",
    "    data_matrix[:,col] = [data[col][1],data[col][2],data[col][3]]\n",
    "end\n",
    "\n",
    "kdtree = KDTree(data_matrix)\n",
    "\n",
    "\n",
    "\n"
   ]
  },
  {
   "cell_type": "code",
   "execution_count": 72,
   "metadata": {},
   "outputs": [
    {
     "data": {
      "text/plain": [
       "1-element Vector{Any}:\n",
       " 68"
      ]
     },
     "metadata": {},
     "output_type": "display_data"
    }
   ],
   "source": [
    "\n",
    "#FIND BEST POINTS....\n",
    "\n",
    "vec_0 = Array([1,0,0])\n",
    "vec_1 = Array([0,1,0])\n",
    "vec_2 = Array([0,0,1])\n",
    "\n",
    "a_0_set, dists = knn(kdtree, vec_0,K, true)\n",
    "c_0_set, dists = knn(kdtree, vec_1,K, true)\n",
    "e_0_set, dists = knn(kdtree, vec_2,K, true)\n",
    "\n",
    "vec_0 = Array([-1,0,0])\n",
    "vec_1 = Array([0,-1,0])\n",
    "vec_2 = Array([0,0,-1])\n",
    "\n",
    "b_0_set, dists = knn(kdtree, vec_0,K, true)\n",
    "d_0_set, dists = knn(kdtree, vec_1,K, true)\n",
    "f_0_set, dists = knn(kdtree, vec_2,K, true)\n",
    "\n",
    "\n",
    "push!(a_, a_0_set[1])\n",
    "push!(b_, b_0_set[1])\n",
    "push!(c_, c_0_set[1])\n",
    "push!(d_, d_0_set[1])\n",
    "push!(e_, e_0_set[1])\n",
    "push!(f_, f_0_set[1])\n",
    "\n",
    "\n"
   ]
  },
  {
   "cell_type": "code",
   "execution_count": 73,
   "metadata": {},
   "outputs": [
    {
     "data": {
      "text/plain": [
       "update_points (generic function with 1 method)"
      ]
     },
     "metadata": {},
     "output_type": "display_data"
    }
   ],
   "source": [
    "\n",
    "\n",
    "function update_points(points, index, x_0_set, min_loss, coord_ab, coord_cd, coord_ef, output_file)\n",
    "    if index <=2\n",
    "        coord_xy = coord_ab\n",
    "        #nothing\n",
    "    elseif index <=4\n",
    "        output_file = output_file * \"double\"\n",
    "        coord_xy = coord_cd\n",
    "    else\n",
    "        output_file = output_file * \"tripple\"\n",
    "        coord_xy = coord_ef\n",
    "    end\n",
    "    x_0 = points[index]\n",
    "    ok = false\n",
    "    x_0_set = reverse(x_0_set)\n",
    "    #min_loss = min_loss\n",
    "    for i in 1:length(x_0_set)\n",
    "        x_0_i = x_0_set[i]\n",
    "        new_points = points\n",
    "        new_points[index]  = x_0_i\n",
    "        try\n",
    "            # WE ONLY NEED TO COMPUTE ONE!!!! new coordinte\n",
    "            coord_xy = mv(points = new_points, start_points = true, input_file = input_file, output_file = output_file, double_penetration = false, tripple  = false)\n",
    "            if index <=2\n",
    "                coord_ab = coord_xy\n",
    "            elseif index <=4\n",
    "                coord_cd = coord_xy\n",
    "            else\n",
    "                coord_ef = coord_xy\n",
    "            end\n",
    "            l = loss(new_points, coord_ab, coord_cd, coord_ef)\n",
    "            if  l < min_loss\n",
    "                min_loss = l\n",
    "                x_0 = x_0_i\n",
    "                ok = true\n",
    "            end\n",
    "        catch\n",
    "            print(\"cant compute new coord\")\n",
    "            #nothing\n",
    "        end\n",
    "        if ok\n",
    "            break\n",
    "        end\n",
    "    end\n",
    "    \n",
    "    return x_0, min_loss, coord_xy\n",
    "end\n",
    "\n",
    "\n"
   ]
  },
  {
   "cell_type": "code",
   "execution_count": 74,
   "metadata": {},
   "outputs": [],
   "source": [
    "#sisi =  [a_0_set[1]-1, b_0_set[1]-1, c_0_set[1]-1, d_0_set[1]-1, e_0_set[1]-1, f_0_set[1]-1]"
   ]
  },
  {
   "cell_type": "code",
   "execution_count": 75,
   "metadata": {},
   "outputs": [
    {
     "name": "stdout",
     "output_type": "stream",
     "text": [
      "Init Loss: 0.03293877980542516\n",
      "Init points \n",
      "[35,47,4,31,26,67]\n",
      "Updated b_0 from "
     ]
    },
    {
     "name": "stdout",
     "output_type": "stream",
     "text": [
      "48 to 48\n"
     ]
    },
    {
     "name": "stdout",
     "output_type": "stream",
     "text": [
      "Updated c_0 from 5 to 5\n",
      "Updated d_0 from "
     ]
    },
    {
     "name": "stdout",
     "output_type": "stream",
     "text": [
      "32 to 32\n"
     ]
    },
    {
     "name": "stdout",
     "output_type": "stream",
     "text": [
      "Updated e_0 from 27 to 27\n",
      "Updated f_0 from "
     ]
    },
    {
     "name": "stdout",
     "output_type": "stream",
     "text": [
      "68 to 68\n",
      "FIXX POINTT\n",
      "----------------------------------------------------------------\n",
      "[35,47,4,31,26,67]\n",
      "----------------------------------------------------------------\n",
      "Done with: 1   Break_count: 1 K = 15\n",
      "Points\n",
      "[35,47,4,31,26,67]\n",
      "-------\n",
      "Loss: "
     ]
    },
    {
     "name": "stdout",
     "output_type": "stream",
     "text": [
      "0.03293877980542516\n"
     ]
    },
    {
     "name": "stdout",
     "output_type": "stream",
     "text": [
      "Updated b_0 from 48 to 48\n",
      "Updated c_0 from "
     ]
    },
    {
     "name": "stdout",
     "output_type": "stream",
     "text": [
      "5 to 5\n"
     ]
    },
    {
     "name": "stdout",
     "output_type": "stream",
     "text": [
      "Updated d_0 from 32 to 32\n",
      "Updated e_0 from "
     ]
    },
    {
     "name": "stdout",
     "output_type": "stream",
     "text": [
      "27 to 27\n"
     ]
    },
    {
     "name": "stdout",
     "output_type": "stream",
     "text": [
      "Updated f_0 from 68 to 68\n",
      "FIXX POINTT\n",
      "----------------------------------------------------------------\n",
      "[35,47,4,31,26,67]\n",
      "----------------------------------------------------------------\n"
     ]
    }
   ],
   "source": [
    "  \n",
    "for k in 1:ITER\n",
    "    NN = length(a_)\n",
    "    l = NN\n",
    "    points = [a_[NN], b_[NN], c_[NN], d_[NN], e_[NN], f_[NN]]\n",
    "    #print(\"pppp\", points)\n",
    "    try\n",
    "        mv(points = points, start_points = true, input_file = input_file, output_file = output_file, double_penetration = true, tripple = true)\n",
    "    catch\n",
    "        println(\"Choose better starting points\")\n",
    "        l = length(a_)\n",
    "        println(\"Init points \")\n",
    "        println(\"[\" * string(a_[l]-1) * \",\" * string(b_[l]-1) * \",\" * string(c_[l]-1) * \",\" \n",
    "        * string(d_[l]-1) * \",\" * string(e_[l]-1) *  \",\" * string(f_[l]-1) * \"]\")\n",
    "        break\n",
    "\n",
    "    end\n",
    "    \n",
    "    # indexing from 2 because c\n",
    "    matrix = readdlm(output_file * \".csv\", ',')\n",
    "    coord_ab = matrix[2:end,4]\n",
    "\n",
    "    matrix = readdlm(output_file * \"double\" * \".csv\", ',')\n",
    "    coord_cd = matrix[2:end,4]\n",
    "\n",
    "    matrix = readdlm(output_file * \"tripple\" * \".csv\", ',')\n",
    "    coord_ef = matrix[2:end,4]\n",
    "\n",
    "\n",
    "\n",
    "    \n",
    "    a_0 = points[1]\n",
    "    b_0 = points[2]\n",
    "    c_0 = points[3]\n",
    "    d_0 = points[4]\n",
    "    e_0 = points[5]\n",
    "    f_0 = points[6]\n",
    "   \n",
    "\n",
    "\n",
    "    if k == 1\n",
    "        min_loss = loss([a_0,b_0,c_0,d_0, e_0, f_0], coord_ab, coord_cd, coord_ef)\n",
    "        \n",
    "        # Init Loss\n",
    "        println(\"Init Loss: \", min_loss)\n",
    "        push!(loss_, min_loss)\n",
    "\n",
    "        l = length(a_)\n",
    "        println(\"Init points \")\n",
    "        println(\"[\" * string(a_[l]-1) * \",\" * string(b_[l]-1) * \",\" * string(c_[l]-1) * \",\" \n",
    "        * string(d_[l]-1) * \",\" * string(e_[l]-1) *  \",\" * string(f_[l]-1) * \"]\")\n",
    "    else\n",
    "        println(\"Loss: \", min_loss)\n",
    "        push!(loss_, min_loss)\n",
    "    end\n",
    "    \n",
    "\n",
    "    ####\n",
    "    #We move one both points in each pair\n",
    "    ####\n",
    "\n",
    "    # See if stationary\n",
    "    old_b = b_0\n",
    "    old_d = d_0\n",
    "    old_f = f_0\n",
    "    old_a = a_0\n",
    "    old_c = c_0\n",
    "    old_e = e_0\n",
    "\n",
    "    old_loss = min_loss\n",
    "\n",
    "    bol1 = true\n",
    "    bol2 = true\n",
    "    bol3 = true\n",
    "\n",
    "    #vec_0 = Array([data[a_0][1],data[a_0][2],data[a_0][3]])\n",
    "    vec_1 = Array([data[b_0][1],data[b_0][2],data[b_0][3]])\n",
    "    vec_2 = Array([data[c_0][1],data[c_0][2],data[c_0][3]])\n",
    "    vec_3 = Array([data[d_0][1],data[d_0][2],data[d_0][3]])\n",
    "    vec_4 = Array([data[e_0][1],data[e_0][2],data[e_0][3]])\n",
    "    vec_5 = Array([data[f_0][1],data[f_0][2],data[f_0][3]])\n",
    "    \n",
    "    #a_0_set, dists = knn(kdtree, vec_0,K, true)\n",
    "    b_0_set, dists = knn(kdtree, vec_1,K, true)\n",
    "    c_0_set, dists = knn(kdtree, vec_2,K, true)\n",
    "    d_0_set, dists = knn(kdtree, vec_3,K, true)\n",
    "    e_0_set, dists = knn(kdtree, vec_4,K, true)\n",
    "    f_0_set, dists = knn(kdtree, vec_5,K, true)\n",
    "\n",
    "\n",
    "    # find b_0^i and d_0^1 that minimizes loss\n",
    "\n",
    "\n",
    "\n",
    "    a_0_i = a_0\n",
    "    c_0_i = c_0\n",
    "    e_0_i = e_0\n",
    "\n",
    "    b_0_i = b_0\n",
    "    d_0_i = d_0\n",
    "    f_0_i = f_0\n",
    "    \n",
    "    #points, index, x_0_set, min_loss, coord_ab, coord_cd, coord_ef, output_file\n",
    "\n",
    "    try\n",
    "        b_0, min_loss,coord_ab = update_points([a_0,b_0,c_0,d_0, e_0, f_0], 2, b_0_set, min_loss,  coord_ab, coord_cd, coord_ef, output_file)\n",
    "        println(\"Updated b_0 from \", old_b, \" to \", b_0)\n",
    "    catch\n",
    "        println(\"Cant update b_0\")\n",
    "        b_0 = old_b\n",
    "        min_loss = old_loss\n",
    "    end\n",
    "    old_loss = min_loss\n",
    "    try\n",
    "        c_0, min_loss, coord_cd = update_points([a_0,b_0,c_0,d_0, e_0, f_0],  3, c_0_set, min_loss,  coord_ab, coord_cd, coord_ef, output_file\n",
    "        )\n",
    "        println(\"Updated c_0 from \", old_c, \" to \", c_0)\n",
    "    catch\n",
    "        println(\"Cant update c_0\")\n",
    "        c_0 = old_c\n",
    "        min_loss = old_loss\n",
    "    end\n",
    "    old_loss = min_loss\n",
    "    try\n",
    "        d_0, min_loss, coord_cd = update_points([a_0,b_0,c_0,d_0, e_0, f_0],  4, d_0_set, min_loss,  coord_ab, coord_cd, coord_ef, output_file\n",
    "        )\n",
    "        println(\"Updated d_0 from \", old_d, \" to \", d_0)\n",
    "    catch\n",
    "        println(\"Cant update d_0\")\n",
    "        d_0 = old_d\n",
    "        min_loss = old_loss\n",
    "    end\n",
    "    old_loss = min_loss\n",
    "    try\n",
    "        e_0, min_loss, coord_ef = update_points([a_0,b_0,c_0,d_0, e_0, f_0], 5, e_0_set, min_loss,  coord_ab, coord_cd, coord_ef, output_file\n",
    "        )\n",
    "        println(\"Updated e_0 from \", old_e, \" to \", e_0)\n",
    "    catch\n",
    "        println(\"Cant update e_0\")\n",
    "        e_0 = old_e\n",
    "        min_loss = old_loss\n",
    "    end\n",
    "    old_loss = min_loss\n",
    "    try\n",
    "        f_0, min_loss, coord_ef = update_points([a_0,b_0,c_0,d_0, e_0,f_0],  6, f_0_set, min_loss,  coord_ab, coord_cd, coord_ef, output_file\n",
    "        )\n",
    "        println(\"Updated f_0 from \", old_f, \" to \", f_0)\n",
    "    catch\n",
    "        println(\"Cant update f_0\")\n",
    "        f_0 = old_f\n",
    "        min_loss = old_loss\n",
    "    end\n",
    "    old_loss = min_loss\n",
    "    \n",
    " \n",
    "    if old_b == b_0 && old_d == d_0 && old_f == f_0 && old_a == a_0 && old_c == c_0 && old_e == e_0\n",
    "        println(\"FIXX POINTT\")\n",
    "        println(\"----------------------------------------------------------------\")\n",
    "        println(\"[\" * string(a_0-1) * \",\" * string(b_0-1) * \",\" * string(c_0-1) * \",\" \n",
    "    * string(d_0-1) * \",\" * string(e_0-1) *  \",\" * string(f_0-1) * \"]\")\n",
    "        println(\"----------------------------------------------------------------\")\n",
    "\n",
    "        break_count -=1\n",
    "        K+=10\n",
    "        if break_count == 0\n",
    "            break\n",
    "        end\n",
    " \n",
    "    else\n",
    "        K = OG_K\n",
    "        break_count = KKK\n",
    "    end\n",
    "    push!(a_, a_0)\n",
    "    push!(b_, b_0)\n",
    "    push!(c_, c_0)\n",
    "    push!(d_, d_0)\n",
    "    push!(e_, e_0)\n",
    "    push!(f_, f_0)\n",
    "\n",
    "\n",
    "    l = length(a_)\n",
    "    println(\"Done with: \", k, \"   Break_count: \", break_count, \" K = \", K)\n",
    "    println(\"Points\")\n",
    "    println(\"[\" * string(a_[l]-1) * \",\" * string(b_[l]-1) * \",\" * string(c_[l]-1) * \",\" \n",
    "    * string(d_[l]-1) * \",\" * string(e_[l]-1) *  \",\" * string(f_[l]-1) * \"]\")\n",
    "    println(\"-------\")\n",
    "\n",
    "end"
   ]
  },
  {
   "cell_type": "code",
   "execution_count": 76,
   "metadata": {},
   "outputs": [
    {
     "data": {
      "text/plain": [
       "2-element Vector{Any}:\n",
       " 0.03293877980542516\n",
       " 0.03293877980542516"
      ]
     },
     "metadata": {},
     "output_type": "display_data"
    }
   ],
   "source": [
    "loss_"
   ]
  },
  {
   "cell_type": "code",
   "execution_count": 77,
   "metadata": {},
   "outputs": [
    {
     "name": "stdout",
     "output_type": "stream",
     "text": [
      "Input:\n",
      "[35,47,4,31,26,67]\n"
     ]
    }
   ],
   "source": [
    "println(\"Input:\")\n",
    "println(\"[\" * string(a_[1]-1) * \",\" * string(b_[1]-1) * \",\"\n",
    " * string(c_[1]-1) * \",\" * string(d_[1]-1) *  \",\" * string(e_[1]-1) *  \",\" * string(f_[1]-1) * \"]\")"
   ]
  },
  {
   "cell_type": "code",
   "execution_count": 78,
   "metadata": {},
   "outputs": [
    {
     "name": "stdout",
     "output_type": "stream",
     "text": [
      "Output:\n",
      "[35,47,4,31,26,67]\n"
     ]
    }
   ],
   "source": [
    "l = length(a_)\n",
    "println(\"Output:\")\n",
    "println(\"[\" * string(a_[l]-1) * \",\" * string(b_[l]-1) * \",\" * string(c_[l]-1) * \",\" \n",
    "* string(d_[l]-1) * \",\" * string(e_[l]-1) *  \",\" * string(f_[l]-1) * \"]\")"
   ]
  },
  {
   "cell_type": "code",
   "execution_count": 79,
   "metadata": {},
   "outputs": [],
   "source": []
  }
 ],
 "metadata": {
  "kernelspec": {
   "display_name": "Julia 1.8.3",
   "language": "julia",
   "name": "julia-1.8"
  },
  "language_info": {
   "file_extension": ".jl",
   "mimetype": "application/julia",
   "name": "julia",
   "version": "1.8.3"
  },
  "orig_nbformat": 4,
  "vscode": {
   "interpreter": {
    "hash": "a665b5d41d17b532ea9890333293a1b812fa0b73c9c25c950b3cedf1bebd0438"
   }
  }
 },
 "nbformat": 4,
 "nbformat_minor": 2
}
