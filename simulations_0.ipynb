{
 "cells": [
  {
   "cell_type": "code",
   "execution_count": 1,
   "metadata": {},
   "outputs": [
    {
     "data": {
      "text/plain": [
       "mv (generic function with 1 method)"
      ]
     },
     "metadata": {},
     "output_type": "display_data"
    }
   ],
   "source": [
    "using LinearAlgebra\n",
    "using Plots\n",
    "using Ripserer\n",
    "using Distances\n",
    "using Plots\n",
    "using DataFrames, CSV\n",
    "using DelimitedFiles\n",
    "using AbstractAlgebra\n",
    "using MultivariateStats #for pca\n",
    "using IterativeSolvers\n",
    "using NearestNeighbors\n",
    "#using StatsBase\n",
    "include(\"mv_function_bens_alg_no_save.jl\")\n"
   ]
  },
  {
   "cell_type": "code",
   "execution_count": 2,
   "metadata": {},
   "outputs": [
    {
     "data": {
      "text/plain": [
       "sample (generic function with 1 method)"
      ]
     },
     "metadata": {},
     "output_type": "display_data"
    }
   ],
   "source": [
    "function sample(range, n)\n",
    "    out = []\n",
    "    while length(out) < n\n",
    "        push!(out,rand(1:range))\n",
    "        out = unique(out)\n",
    "    end\n",
    "    return unique(out)\n",
    "end"
   ]
  },
  {
   "cell_type": "code",
   "execution_count": 3,
   "metadata": {},
   "outputs": [
    {
     "data": {
      "text/plain": [
       "KDTree{StaticArraysCore.SVector{3, Float64}, Euclidean, Float64}\n",
       "  Number of points: 80\n",
       "  Dimensions: 3\n",
       "  Metric: Euclidean(0.0)\n",
       "  Reordered: true"
      ]
     },
     "metadata": {},
     "output_type": "display_data"
    }
   ],
   "source": [
    "#Globals\n",
    "K = 5 # in KNN\n",
    "ITER = 30    # iterations of algorithm\n",
    "KKK = 2\n",
    "OG_K = K\n",
    "break_count = KKK #iterations before breakingxs\n",
    "min_loss = 1000\n",
    "input_file =\"./cool_big_data.csv\"\n",
    "#output_file =\"./point_color\"\n",
    "\n",
    "a_ = []\n",
    "b_ = []\n",
    "c_ = []\n",
    "d_ = []\n",
    "e_ = []\n",
    "f_ = []\n",
    "\n",
    "loss_ = []\n",
    "\n",
    "# Load Data\n",
    "matrix = readdlm(input_file, ',', Float64)\n",
    "data = []\n",
    "for row in 1:length(matrix[:,1])\n",
    "    arr = [matrix[row,i] for i in 1:length(matrix[1,:])]\n",
    "    push!(data, arr)\n",
    "end\n",
    "\n",
    "# Dinstance matrix for KNN\n",
    "data_matrix = zeros(Float64, (3, length(data)))\n",
    "for col in 1:length(data)\n",
    "    data_matrix[:,col] = [data[col][1],data[col][2],data[col][3]]\n",
    "end\n",
    "kdtree = KDTree(data_matrix)\n"
   ]
  },
  {
   "cell_type": "code",
   "execution_count": 4,
   "metadata": {},
   "outputs": [
    {
     "data": {
      "text/plain": [
       "loss (generic function with 1 method)"
      ]
     },
     "metadata": {},
     "output_type": "display_data"
    }
   ],
   "source": [
    "# Loss function 0.5 instead of pi\n",
    "\n",
    "function loss(points, coord_ab, coord_cd, coord_ef, what)\n",
    "\n",
    "    \n",
    "    c_ab = mod(coord_ab[points[3]],1.0)\n",
    "    d_ab = mod(coord_ab[points[4]],1.0)\n",
    "    e_ab = mod(coord_ab[points[5]],1.0)\n",
    "    f_ab = mod(coord_ab[points[6]],1.0)\n",
    "\n",
    "    a_cd = mod(coord_cd[points[1]],1.0)\n",
    "    b_cd = mod(coord_cd[points[2]],1.0)\n",
    "    e_cd = mod(coord_cd[points[5]],1.0)\n",
    "    f_cd = mod(coord_cd[points[6]],1.0)\n",
    "\n",
    "    a_ef = mod(coord_ef[points[1]],1.0)\n",
    "    b_ef = mod(coord_ef[points[2]],1.0)\n",
    "    c_ef = mod(coord_ef[points[3]],1.0)\n",
    "    d_ef = mod(coord_ef[points[4]],1.0)\n",
    "\n",
    "    dif_1 = 0.5 - mod(c_ab-d_ab,1.0)\n",
    "    dif_2 = 0.5 - mod(e_ab-f_ab,1.0)\n",
    "    dif_3 = 0.5 -  mod(a_cd-b_cd,1.0)\n",
    "    dif_4 = 0.5 - mod(e_cd-f_cd,1.0)\n",
    "    dif_5 = 0.5 -  mod(a_ef-b_ef,1.0)\n",
    "    dif_6 = 0.5 -  mod(c_ef-d_ef,1.0)\n",
    "\n",
    "    A = (0.25 - mod(c_ab - e_ab, 0.5))^2 + (0.25 - mod(e_ab - d_ab, 0.5))^2 + (0.25 - mod(d_ab - f_ab,0.5))^2 + + (0.25 - mod(f_ab - c_ab, 0.5))^2\n",
    "    B =  (0.25 - mod(a_cd - e_cd, 0.5))^2 + (0.25 - mod(e_cd - b_cd, 0.5))^2 + (0.25 - mod(b_cd - f_cd,0.5))^2 + (0.25 - mod(f_cd - a_cd, 0.5))^2\n",
    "    C =  (0.25 - mod(a_ef - c_ef, 0.5))^2 + (0.25 - mod(c_ef - b_ef, 0.5))^2  + (0.25 - mod(b_ef - d_ef,0.5))^2 + (0.25 - mod(d_ef - a_ef, 0.5))^2 \n",
    "\n",
    "\n",
    "    \n",
    "    loss = 0\n",
    "\n",
    "    if what == \"ab\"\n",
    "        loss += dif_3^2 + dif_4^2+dif_5^2 + dif_6^2 +C+B\n",
    "    elseif what == \"cd\"\n",
    "        loss += dif_1^2 + dif_2^2+ dif_5^2 + dif_6^2 +A+C\n",
    "    elseif what == \"ef\"\n",
    "        loss += dif_1^2 + dif_2^2+ dif_3^2 + dif_4^2 +A+B\n",
    "    end\n",
    "\n",
    "\n",
    "    \"\"\"\n",
    "    dif_1 = 0.5 - mod(c_ab-d_ab,1.0)\n",
    "    dif_2 = 0.5 - mod(e_ab-f_ab,1.0)\n",
    "    dif_3 = 0.5 -  mod(a_cd-b_cd,1.0)\n",
    "    dif_4 = 0.5 - mod(e_cd-f_cd,1.0)\n",
    "    dif_5 = 0.5 -  mod(a_ef-b_ef,1.0)\n",
    "    dif_6 = 0.5 -  mod(c_ef-d_ef,1.0)\n",
    "\n",
    "\n",
    "    A = (0.25 - mod(c_ab - e_ab, 0.5))^2 + (0.25 - mod(e_ab - d_ab, 0.5))^2 + (0.25 - mod(d_ab - f_ab,0.5))^2 + + (0.25 - mod(f_ab - c_ab, 0.5))^2\n",
    "    B =  (0.25 - mod(a_cd - e_cd, 0.5))^2 + (0.25 - mod(e_cd - b_cd, 0.5))^2 + (0.25 - mod(b_cd - f_cd,0.5))^2 + (0.25 - mod(f_cd - a_cd, 0.5))^2\n",
    "    C =  (0.25 - mod(a_ef - c_ef, 0.5))^2 + (0.25 - mod(c_ef - b_ef, 0.5))^2  + (0.25 - mod(b_ef - d_ef,0.5))^2 + (0.25 - mod(d_ef - a_ef, 0.5))^2 \n",
    "\n",
    "    #loss = max(A,B,C)\n",
    "    loss = A + B + C\n",
    "    loss +=  dif_1^2 + dif_2^2 +  dif_3^2 + dif_4^2 + dif_5^2 + dif_6^2  \n",
    "    #loss += dif_1^2 + dif_2^2 + dif_3^2 + dif_4^2 + dif_5^2 + dif_6^2\n",
    "    \"\"\"\n",
    "    \n",
    "    return loss\n",
    "end"
   ]
  },
  {
   "cell_type": "code",
   "execution_count": 5,
   "metadata": {},
   "outputs": [
    {
     "data": {
      "text/plain": [
       "update_points (generic function with 1 method)"
      ]
     },
     "metadata": {},
     "output_type": "display_data"
    }
   ],
   "source": [
    "\n",
    "\n",
    "function update_points(points, index, x_0_set, min_loss, coord_ab, coord_cd, coord_ef,input_file, output_file)\n",
    "    #println(\"Input file ,\", po   )\n",
    "\n",
    "    if index <=2\n",
    "        old = coord_ab\n",
    "        x_0 = points[index]\n",
    "        ok = false\n",
    "        x_0_set = reverse(x_0_set)\n",
    "\n",
    "        for i in 1:length(x_0_set)\n",
    "            x_0_i = x_0_set[i]\n",
    "            new_points = points\n",
    "            new_points[index]  = x_0_i\n",
    "            try\n",
    "                coord_ab = mv(points = new_points, start_points = true, input_file = input_file, output_file = output_file, double_penetration = false, tripple  = false)\n",
    "            catch e\n",
    "                ok = false\n",
    "                print(\"cant compute new coord ab  \", x_0_i, \"\\n\")\n",
    "                coord_ab = old\n",
    "                #nothing\n",
    "            end\n",
    "            l = loss(new_points, coord_ab, coord_cd, coord_ef, \"ab\")\n",
    "                if  l < min_loss\n",
    "                    min_loss = l\n",
    "                    x_0 = x_0_i\n",
    "                    ok = true\n",
    "                end\n",
    "            if ok\n",
    "                break    \n",
    "            end\n",
    "        end\n",
    "        return x_0, min_loss, coord_ab\n",
    "\n",
    "    elseif index <=4\n",
    "        old = coord_cd\n",
    "        x_0 = points[index]\n",
    "        ok = false\n",
    "        x_0_set = reverse(x_0_set)\n",
    "\n",
    "        for i in 1:length(x_0_set)\n",
    "            x_0_i = x_0_set[i]\n",
    "            new_points = points\n",
    "            new_points[index]  = x_0_i\n",
    "            try\n",
    "                coord_cd = mv(points = new_points, start_points = true, input_file = input_file, output_file = output_file, double_penetration = false, tripple  = false, what = \"cd\")\n",
    "            catch e\n",
    "                ok = false\n",
    "                print(\"cant compute new coord cd  \", x_0_i, \"\\n\")\n",
    "                coord_cd = old\n",
    "\n",
    "                #nothing\n",
    "            end\n",
    "            l = loss(new_points, coord_ab, coord_cd, coord_ef, \"cd\")\n",
    "                if  l < min_loss\n",
    "                    min_loss = l\n",
    "                    x_0 = x_0_i\n",
    "                    ok = true\n",
    "                end\n",
    "            if ok\n",
    "                break    \n",
    "            end\n",
    "        end\n",
    "        return x_0, min_loss, coord_cd\n",
    "    else\n",
    "        old = coord_ef\n",
    "\n",
    "        x_0 = points[index]\n",
    "        ok = false\n",
    "        x_0_set = reverse(x_0_set)\n",
    "\n",
    "        for i in 1:length(x_0_set)\n",
    "            x_0_i = x_0_set[i]\n",
    "            new_points = points\n",
    "            new_points[index]  = x_0_i\n",
    "            try\n",
    "                coord_ef = mv(points = new_points, start_points = true, input_file = input_file, output_file = output_file, double_penetration = false, tripple  = false, what = \"ef\")\n",
    "            catch e\n",
    "                ok = false\n",
    "                print(\"cant compute new coord ef  \", x_0_i, \"\\n\")\n",
    "                ef_coord = old\n",
    "                #nothing\n",
    "            end\n",
    "            l = loss(new_points, coord_ab, coord_cd, coord_ef, \"ef\")\n",
    "                if  l < min_loss\n",
    "                    min_loss = l\n",
    "                    x_0 = x_0_i\n",
    "                    ok = true\n",
    "                end\n",
    "            if ok\n",
    "                break    \n",
    "            end\n",
    "        end\n",
    "        return x_0, min_loss, coord_ef\n",
    "    end\n",
    "end\n",
    "\n",
    "\n"
   ]
  },
  {
   "cell_type": "code",
   "execution_count": 6,
   "metadata": {},
   "outputs": [
    {
     "data": {
      "text/plain": [
       "test_start (generic function with 1 method)"
      ]
     },
     "metadata": {},
     "output_type": "display_data"
    }
   ],
   "source": [
    "function test_start(points, input_file, output_file, l, ll)\n",
    "        try\n",
    "            coord_ab, coord_cd, coord_ef = mv(points = points, start_points = true, input_file = input_file, output_file = output_file, double_penetration = true, tripple = true)\n",
    "            #println(\"OKOKKOKOKO\")\n",
    "        catch \n",
    "            @warn \"ArgumentError, bad starting points!!?? :(((((\" \n",
    "            println(\"FUCKCKDOKPCSSDÅOVNSDNOVNDS^OVN\")\n",
    "            points = sample(ll, 6)\n",
    "        end\n",
    "        coord_ab, coord_cd, coord_ef = mv(points = points, start_points = true, input_file = input_file, output_file = output_file, double_penetration = true, tripple = true)\n",
    "\n",
    "        return points, coord_ab, coord_cd, coord_ef\n",
    "end"
   ]
  },
  {
   "cell_type": "code",
   "execution_count": 7,
   "metadata": {},
   "outputs": [
    {
     "name": "stdout",
     "output_type": "stream",
     "text": [
      "glad this is overInit Loss: 0.6778112718768725\n",
      "Init points \n"
     ]
    },
    {
     "name": "stdout",
     "output_type": "stream",
     "text": [
      "[76,25,31,12,30,65]\n"
     ]
    },
    {
     "name": "stdout",
     "output_type": "stream",
     "text": [
      "Updated b_0 from 26 to 26\n",
      "Updated c_0 from "
     ]
    },
    {
     "name": "stdout",
     "output_type": "stream",
     "text": [
      "32 to 53\n"
     ]
    },
    {
     "name": "stdout",
     "output_type": "stream",
     "text": [
      "cant compute new coord cd  21\n",
      "Updated d_0 from 13 to 21\n",
      "cant compute new coord ef  9\n",
      "Updated e_0 from 31 to 9\n"
     ]
    },
    {
     "name": "stdout",
     "output_type": "stream",
     "text": [
      "cant compute new coord ef  22\n",
      "cant compute new coord ef  15\n",
      "Updated f_0 from 66 to 15\n",
      "Done with: 1   Break_count: 2 K = 5\n",
      "Points\n",
      "[76,25,52,20,8,14]\n",
      "-------\n",
      "Loss: 0.5396082079022206\n",
      "Updated b_0 from "
     ]
    },
    {
     "name": "stdout",
     "output_type": "stream",
     "text": [
      "26 to 56\n"
     ]
    },
    {
     "name": "stdout",
     "output_type": "stream",
     "text": [
      "cant compute new coord cd  9\n",
      "cant compute new coord cd  "
     ]
    },
    {
     "name": "stdout",
     "output_type": "stream",
     "text": [
      "73\n"
     ]
    },
    {
     "name": "stdout",
     "output_type": "stream",
     "text": [
      "cant compute new coord cd  55\n",
      "cant compute new coord cd  "
     ]
    },
    {
     "name": "stdout",
     "output_type": "stream",
     "text": [
      "14\n"
     ]
    },
    {
     "name": "stdout",
     "output_type": "stream",
     "text": [
      "cant compute new coord cd  53\n",
      "Updated c_0 from 53 to 53\n"
     ]
    },
    {
     "name": "stdout",
     "output_type": "stream",
     "text": [
      "cant compute new coord cd  21\n",
      "Updated d_0 from 21 to 21\n",
      "cant compute new coord ef  14\n",
      "cant compute new coord ef  "
     ]
    },
    {
     "name": "stdout",
     "output_type": "stream",
     "text": [
      "53\n",
      "cant compute new coord ef  31\n",
      "Updated e_0 from 9 to 31\n"
     ]
    },
    {
     "name": "stdout",
     "output_type": "stream",
     "text": [
      "cant compute new coord ef  41\n",
      "cant compute new coord ef  66\n"
     ]
    },
    {
     "name": "stdout",
     "output_type": "stream",
     "text": [
      "cant compute new coord ef  50\n",
      "cant compute new coord ef  42\n",
      "Updated f_0 from 15 to 42\n",
      "Done with: 2   Break_count: 2 K = 5\n",
      "Points\n",
      "[76,55,52,20,30,41]\n",
      "-------\n",
      "Loss: 0.5218359480299085\n",
      "Updated b_0 from "
     ]
    },
    {
     "name": "stdout",
     "output_type": "stream",
     "text": [
      "56 to 56\n"
     ]
    },
    {
     "name": "stdout",
     "output_type": "stream",
     "text": [
      "cant compute new coord cd  9\n",
      "cant compute new coord cd  "
     ]
    },
    {
     "name": "stdout",
     "output_type": "stream",
     "text": [
      "73\n"
     ]
    },
    {
     "name": "stdout",
     "output_type": "stream",
     "text": [
      "cant compute new coord cd  55\n",
      "cant compute new coord cd  "
     ]
    },
    {
     "name": "stdout",
     "output_type": "stream",
     "text": [
      "14\n"
     ]
    },
    {
     "name": "stdout",
     "output_type": "stream",
     "text": [
      "cant compute new coord cd  53\n",
      "Updated c_0 from 53 to 53\n"
     ]
    },
    {
     "name": "stdout",
     "output_type": "stream",
     "text": [
      "cant compute new coord cd  21\n",
      "Updated d_0 from 21 to 21\n",
      "cant compute new coord ef  9\n",
      "cant compute new coord ef  "
     ]
    },
    {
     "name": "stdout",
     "output_type": "stream",
     "text": [
      "40\n",
      "cant compute new coord ef  49\n",
      "cant compute new coord ef  "
     ]
    },
    {
     "name": "stdout",
     "output_type": "stream",
     "text": [
      "23\n",
      "Updated e_0 from 31 to 23\n",
      "cant compute new coord ef  61\n",
      "Updated f_0 from 42 to 61\n",
      "Done with: 3   Break_count: 2 K = 5\n",
      "Points\n",
      "[76,55,52,20,22,60]\n",
      "-------\n",
      "Loss: 0.47443114976634737\n",
      "Updated b_0 from "
     ]
    },
    {
     "name": "stdout",
     "output_type": "stream",
     "text": [
      "56 to 56\n"
     ]
    },
    {
     "name": "stdout",
     "output_type": "stream",
     "text": [
      "cant compute new coord cd  9\n",
      "cant compute new coord cd  "
     ]
    },
    {
     "name": "stdout",
     "output_type": "stream",
     "text": [
      "73\n"
     ]
    },
    {
     "name": "stdout",
     "output_type": "stream",
     "text": [
      "cant compute new coord cd  55\n",
      "cant compute new coord cd  "
     ]
    },
    {
     "name": "stdout",
     "output_type": "stream",
     "text": [
      "14\n"
     ]
    },
    {
     "name": "stdout",
     "output_type": "stream",
     "text": [
      "cant compute new coord cd  53\n",
      "Updated c_0 from 53 to 53\n"
     ]
    },
    {
     "name": "stdout",
     "output_type": "stream",
     "text": [
      "cant compute new coord cd  21\n",
      "Updated d_0 from 21 to 21\n",
      "cant compute new coord ef  16\n",
      "Updated e_0 from 23 to 16\n"
     ]
    },
    {
     "name": "stdout",
     "output_type": "stream",
     "text": [
      "cant compute new coord ef  15\n",
      "cant compute new coord ef  42\n"
     ]
    },
    {
     "name": "stdout",
     "output_type": "stream",
     "text": [
      "cant compute new coord ef  72\n",
      "cant compute new coord ef  66\n"
     ]
    }
   ],
   "source": [
    "\"\"\"\n",
    "all_loss = []\n",
    "all_points = []\n",
    "all_ab = []\n",
    "all_cd = []\n",
    "all_ef = []\n",
    "\"\"\"\n",
    "\n",
    "\n",
    "\n",
    "for b in 1:1\n",
    "    loss_ = []\n",
    "    points_ = []\n",
    "    ab_ = []\n",
    "    cd_ = []\n",
    "    ef_ = []\n",
    "\n",
    "\n",
    "\n",
    "    #Globals\n",
    "    K = 5 # in KNN\n",
    "    #OG_K = 10\n",
    "    ITER = 30    # iterations of algorithm\n",
    "    KKK = 2\n",
    "    OG_K = K\n",
    "    break_count = KKK #iterations before breakingxs\n",
    "    min_loss = 1000\n",
    "\n",
    "    lima_ab = 1000\n",
    "    lima_cd = 1000\n",
    "    lima_ef = 1000\n",
    "    input_file =\"./cool_big_data.csv\"\n",
    "    output_file =\"./we_DONT_USE_IT\"\n",
    "\n",
    "    \n",
    "\n",
    "    a_ = []\n",
    "    b_ = []\n",
    "    c_ = []\n",
    "    d_ = []\n",
    "    e_ = []\n",
    "    f_ = []\n",
    "\n",
    "    loss_ = []\n",
    "    points_ = []\n",
    "\n",
    "\n",
    "    # Do zeroth iteration of algerithm with random points\n",
    "    ll = length(matrix[:,1])\n",
    "\n",
    "    \n",
    "    # Random distinct start points,\n",
    "    \n",
    "    ########################################################################\n",
    "    #GOOOOOOOD SHIIIT\n",
    "    points = sample(ll,6)\n",
    "\n",
    "    # DELETE me\n",
    "    #points =  [50,59,2,48,70,3]\n",
    "     # DELETE me\n",
    "\n",
    "     \n",
    "    #Cheking that they actuall work\n",
    "    points, coord_ab, coord_cd, coord_ef = test_start(points, input_file, output_file,1,ll)\n",
    "    #println(coord_ab)\n",
    "    #println(coord_cd)\n",
    "    #println(coord_ef)\n",
    "    print(\"glad this is over\")\n",
    "\n",
    "    # Store to see progress\n",
    "    a_0 = points[1]\n",
    "    b_0 = points[2]\n",
    "    c_0 = points[3]\n",
    "    d_0 = points[4]\n",
    "    e_0 = points[5]\n",
    "    f_0 = points[6]\n",
    "    \n",
    "\n",
    "    push!(a_, a_0)\n",
    "    push!(b_, b_0)\n",
    "    push!(c_, c_0)\n",
    "    push!(d_, d_0)\n",
    "    push!(e_, e_0)\n",
    "    push!(f_, f_0)\n",
    "    ################################\n",
    "    \"\"\"\n",
    "    ########################################################################\n",
    "    # Best points\n",
    "    vec_0 = Array([1,0,0])\n",
    "    vec_1 = Array([0,1,0])\n",
    "    vec_2 = Array([0,0,1])\n",
    "\n",
    "    a_0_set, dists = knn(kdtree, vec_0,K, true)\n",
    "    c_0_set, dists = knn(kdtree, vec_1,K, true)\n",
    "    e_0_set, dists = knn(kdtree, vec_2,K, true)\n",
    "\n",
    "    vec_0 = Array([-1,0,0])\n",
    "    vec_1 = Array([0,-1,0])\n",
    "    vec_2 = Array([0,0,-1])\n",
    "\n",
    "    b_0_set, dists = knn(kdtree, vec_0,K, true)\n",
    "    d_0_set, dists = knn(kdtree, vec_1,K, true)\n",
    "    f_0_set, dists = knn(kdtree, vec_2,K, true)\n",
    "\n",
    "\n",
    "    push!(a_, a_0_set[1])\n",
    "    push!(b_, b_0_set[1])\n",
    "    push!(c_, c_0_set[1])\n",
    "    push!(d_, d_0_set[1])\n",
    "    push!(e_, e_0_set[1])\n",
    "    push!(f_, f_0_set[1])\n",
    "\n",
    "    points = [a_0_set[1],b_0_set[1], c_0_set[1], d_0_set[1], e_0_set[1], f_0_set[1]]\n",
    "    #println(\"points    \", points)\n",
    "    points, coord_ab, coord_cd, coord_ef = test_start(points, input_file, output_file,1,ll)\n",
    "    #println(\"points    \", points)\n",
    "    \n",
    "    ########################################################################\n",
    "    \"\"\"\n",
    "    for k in 1:ITER\n",
    "        NN = length(a_)\n",
    "        l = NN\n",
    "        points = [a_[NN], b_[NN], c_[NN], d_[NN], e_[NN], f_[NN]]\n",
    "\n",
    "        # used to find cooridnates here\n",
    "        \n",
    "        a_0 = points[1]\n",
    "        b_0 = points[2]\n",
    "        c_0 = points[3]\n",
    "        d_0 = points[4]\n",
    "        e_0 = points[5]\n",
    "        f_0 = points[6]\n",
    "    \n",
    "\n",
    "\n",
    "        if k == 1\n",
    "            lima_ab = loss([a_0,b_0,c_0,d_0, e_0, f_0], coord_ab, coord_cd, coord_ef, \"ab\")\n",
    "            lima_cd = loss([a_0,b_0,c_0,d_0, e_0, f_0], coord_ab, coord_cd, coord_ef, \"cd\")\n",
    "            lima_ef = loss([a_0,b_0,c_0,d_0, e_0, f_0], coord_ab, coord_cd, coord_ef, \"ef\")\n",
    "            min_loss = lima_ab + lima_cd + lima_ef\n",
    "            \n",
    "            # Init Loss\n",
    "            println(\"Init Loss: \", min_loss)\n",
    "            #push!(points_, [a_0-1,b_0-1,c_0-1,d_0-1, e_0-1, f_0-1])\n",
    "            push!(ab_, coord_ab)\n",
    "            push!(cd_, coord_cd)\n",
    "            push!(ef_, coord_ef)\n",
    "            push!(loss_,min_loss )\n",
    "            push!(points_,[a_0-1,b_0-1,c_0-1,d_0-1, e_0-1,f_0-1] )\n",
    "\n",
    "            l = length(a_)\n",
    "            println(\"Init points \")\n",
    "            println(\"[\" * string(a_[l]-1) * \",\" * string(b_[l]-1) * \",\" * string(c_[l]-1) * \",\" \n",
    "            * string(d_[l]-1) * \",\" * string(e_[l]-1) *  \",\" * string(f_[l]-1) * \"]\")\n",
    "        else\n",
    "            println(\"Loss: \", min_loss)\n",
    "            push!(ab_, coord_ab)\n",
    "            push!(cd_, coord_cd)\n",
    "            push!(ef_, coord_ef)\n",
    "            push!(loss_,min_loss )\n",
    "            push!(points_,[a_0-1,b_0-1,c_0-1,d_0-1, e_0-1,f_0-1] )\n",
    "\n",
    "        end\n",
    "        \n",
    "\n",
    "        ####\n",
    "        #We move one both points in each pair\n",
    "        ####\n",
    "\n",
    "        # See if stationary\n",
    "        old_b = b_0\n",
    "        old_d = d_0\n",
    "        old_f = f_0\n",
    "        old_a = a_0\n",
    "        old_c = c_0\n",
    "        old_e = e_0\n",
    "\n",
    "        old_loss = min_loss\n",
    "\n",
    "\n",
    "        #vec_0 = Array([data[a_0][1],data[a_0][2],data[a_0][3]])\n",
    "        vec_1 = Array([data[b_0][1],data[b_0][2],data[b_0][3]])\n",
    "        vec_2 = Array([data[c_0][1],data[c_0][2],data[c_0][3]])\n",
    "        vec_3 = Array([data[d_0][1],data[d_0][2],data[d_0][3]])\n",
    "        vec_4 = Array([data[e_0][1],data[e_0][2],data[e_0][3]])\n",
    "        vec_5 = Array([data[f_0][1],data[f_0][2],data[f_0][3]])\n",
    "        \n",
    "        #a_0_set, dists = knn(kdtree, vec_0,K, true)\n",
    "        b_0_set, dists = knn(kdtree, vec_1,K, true)\n",
    "        c_0_set, dists = knn(kdtree, vec_2,K, true)\n",
    "        d_0_set, dists = knn(kdtree, vec_3,K, true)\n",
    "        e_0_set, dists = knn(kdtree, vec_4,K, true)\n",
    "        f_0_set, dists = knn(kdtree, vec_5,K, true)\n",
    "\n",
    "\n",
    "        # find b_0^i and d_0^1 that minimizes loss\n",
    "\n",
    "        a_0_i = a_0\n",
    "        c_0_i = c_0\n",
    "        e_0_i = e_0\n",
    "\n",
    "        b_0_i = b_0\n",
    "        d_0_i = d_0\n",
    "        f_0_i = f_0\n",
    "        \n",
    "        #points, index, x_0_set, min_loss, coord_ab, coord_cd, coord_ef, output_file\n",
    "        \"\"\"\n",
    "        println(coord_ab)\n",
    "        println(coord_cd)\n",
    "        println(coord_ef)\n",
    "        println(\"________________________________________________________________________________________________________________________________\")\n",
    "        println(\"________________________________________________________________________________________________________________________________\")\n",
    "\n",
    "        \"\"\"\n",
    "        b_0, lima_ab ,coord_ab = update_points([a_0,b_0,c_0,d_0, e_0, f_0], 2, b_0_set, lima_ab,  coord_ab, coord_cd, coord_ef,input_file, output_file)\n",
    "        println(\"Updated b_0 from \", old_b, \" to \", b_0)\n",
    "\n",
    "        \n",
    "        c_0, lima_cd, coord_cd = update_points([a_0,b_0,c_0,d_0, e_0, f_0],  3, c_0_set, lima_cd,  coord_ab, coord_cd, coord_ef,input_file, output_file\n",
    "            )\n",
    "        println(\"Updated c_0 from \", old_c, \" to \", c_0)\n",
    "       \n",
    "        d_0, lima_cd, coord_cd = update_points([a_0,b_0,c_0,d_0, e_0, f_0],  4, d_0_set, lima_cd,  coord_ab, coord_cd, coord_ef,input_file, output_file\n",
    "        )\n",
    "        println(\"Updated d_0 from \", old_d, \" to \", d_0)\n",
    "\n",
    "        \n",
    "        e_0, lima_ef, coord_ef = update_points([a_0,b_0,c_0,d_0, e_0, f_0], 5, e_0_set, lima_ef,  coord_ab, coord_cd, coord_ef,input_file, output_file\n",
    "        )\n",
    "        println(\"Updated e_0 from \", old_e, \" to \", e_0)\n",
    "        \n",
    "        f_0, lima_ef, coord_ef = update_points([a_0,b_0,c_0,d_0, e_0,f_0],  6, f_0_set, lima_ef,  coord_ab, coord_cd, coord_ef,input_file, output_file\n",
    "        )\n",
    "        \n",
    "        println(\"Updated f_0 from \", old_f, \" to \", f_0)\n",
    "        min_loss = lima_ab + lima_cd+ lima_ef\n",
    "        \n",
    "            \n",
    "        #println(coord_ab)\n",
    "        #println(coord_cd)\n",
    "        #println(coord_ef)\n",
    "\n",
    "        if old_b == b_0 && old_d == d_0 && old_f == f_0 && old_a == a_0 && old_c == c_0 && old_e == e_0\n",
    "            println(\"FIXX POINTT\")\n",
    "            println(\"----------------------------------------------------------------\")\n",
    "            println(\"[\" * string(a_0-1) * \",\" * string(b_0-1) * \",\" * string(c_0-1) * \",\" \n",
    "        * string(d_0-1) * \",\" * string(e_0-1) *  \",\" * string(f_0-1) * \"]\")\n",
    "            println(\"----------------------------------------------------------------\")\n",
    "\n",
    "            break_count -=1\n",
    "            K+=10\n",
    "            if break_count == 0\n",
    "                break\n",
    "            end\n",
    "    \n",
    "        else\n",
    "            K = OG_K\n",
    "            break_count = KKK\n",
    "        end\n",
    "        push!(a_, a_0)\n",
    "        push!(b_, b_0)\n",
    "        push!(c_, c_0)\n",
    "        push!(d_, d_0)\n",
    "        push!(e_, e_0)\n",
    "        push!(f_, f_0)\n",
    "\n",
    "        l = length(a_)\n",
    "        println(\"Done with: \", k, \"   Break_count: \", break_count, \" K = \", K)\n",
    "        println(\"Points\")\n",
    "        println(\"[\" * string(a_[l]-1) * \",\" * string(b_[l]-1) * \",\" * string(c_[l]-1) * \",\" \n",
    "        * string(d_[l]-1) * \",\" * string(e_[l]-1) *  \",\" * string(f_[l]-1) * \"]\")\n",
    "        println(\"-------\")\n",
    "        #println(coord_ab)\n",
    "        #println(coord_cd)\n",
    "        #println(coord_ef)\n",
    "    end\n",
    "\n",
    "\n",
    "    println(\"§§§§§§§§§§§§§§§§§§§§§§§§§§§§§§§§§§§§§§§§§§\")\n",
    "    println(\"Done with iteration: \", b)\n",
    "    println(\"§§§§§§§§§§§§§§§§§§§§§§§§§§§§§§§§§§§§§§§§§§\")\n",
    "\n",
    "    # save\n",
    "    i = b\n",
    "    qq = zeros(Float64, (length(loss_), 1))\n",
    "    qq[:,1] = loss_\n",
    "    df = DataFrame(qq, :auto)\n",
    "    CSV.write(\"sim_data/all_loss_\" * string(b) *\".csv\", df)\n",
    "\n",
    "\n",
    "    \n",
    "    qq = zeros(Float64, (length(ab_[1]), length(ab_)))\n",
    "    for col in 1:length(ab_)\n",
    "        qq[:,col] = ab_[col]\n",
    "    end\n",
    "    df = DataFrame(qq, :auto)\n",
    "    CSV.write(\"sim_data/all_ab_\" * string(b) *\".csv\", df)\n",
    "\n",
    "    \n",
    "     \n",
    "    qq = zeros(Float64, (length(cd_[1]), length(cd_)))\n",
    "    for col in 1:length(cd_)\n",
    "        qq[:,col] = cd_[col]\n",
    "    end\n",
    "    df = DataFrame(qq, :auto)\n",
    "    CSV.write(\"sim_data/all_cd_\" * string(b) *\".csv\", df)\n",
    "    \n",
    "    \n",
    "    \n",
    "    qq = zeros(Float64, (length(ef_[1]), length(ef_)))\n",
    "    for col in 1:length(ef_)\n",
    "        qq[:,col] = ef_[col]\n",
    "    end\n",
    "    df = DataFrame(qq, :auto)\n",
    "    CSV.write(\"sim_data/all_ef_\" * string(b) *\".csv\", df)\n",
    "    \n",
    "    \n",
    "    \n",
    "    \n",
    "    qq = zeros(Float64, (length(points_[1]), length(points_)))\n",
    "    for col in 1:length(points_)\n",
    "        qq[:,col] = points_[col]\n",
    "    end\n",
    "    df = DataFrame(qq, :auto)\n",
    "    CSV.write(\"sim_data/all_points_\" * string(b) *\".csv\", df)\n",
    "\n",
    "\n",
    "end"
   ]
  },
  {
   "cell_type": "code",
   "execution_count": null,
   "metadata": {},
   "outputs": [],
   "source": [
    "\"\"\"\n",
    "\n",
    "########################################################################\n",
    "# Best points\n",
    "vec_0 = Array([1,0,0])\n",
    "vec_1 = Array([0,1,0])\n",
    "vec_2 = Array([0,0,1])\n",
    "\n",
    "a_0_set, dists = knn(kdtree, vec_0,K, true)\n",
    "c_0_set, dists = knn(kdtree, vec_1,K, true)\n",
    "e_0_set, dists = knn(kdtree, vec_2,K, true)\n",
    "\n",
    "vec_0 = Array([-1,0,0])\n",
    "vec_1 = Array([0,-1,0])\n",
    "vec_2 = Array([0,0,-1])\n",
    "\n",
    "b_0_set, dists = knn(kdtree, vec_0,K, true)\n",
    "d_0_set, dists = knn(kdtree, vec_1,K, true)\n",
    "f_0_set, dists = knn(kdtree, vec_2,K, true)\n",
    "\n",
    "\n",
    "push!(a_, a_0_set[1])\n",
    "push!(b_, b_0_set[1])\n",
    "push!(c_, c_0_set[1])\n",
    "push!(d_, d_0_set[1])\n",
    "push!(e_, e_0_set[1])\n",
    "push!(f_, f_0_set[1])\n",
    "points = [a_0_set[1],b_0_set[1], c_0_set[1], d_0_set[1], e_0_set[1], f_0_set[1]]\n",
    "########################################################################\n",
    "\n",
    "########################################################################\n",
    "# Dont need this I belibe\n",
    "#start\n",
    "# indexing from 2 because c\n",
    "matrix = readdlm(output_file * \".csv\", ',')\n",
    "coord_ab = matrix[2:end,4]\n",
    "\n",
    "matrix = readdlm(output_file * \"double\" * \".csv\", ',')\n",
    "coord_cd = matrix[2:end,4]\n",
    "\n",
    "matrix = readdlm(output_file * \"tripple\" * \".csv\", ',')\n",
    "coord_ef = matrix[2:end,4]\n",
    "########################################################################\n",
    "\n",
    "\n",
    "\"\"\""
   ]
  },
  {
   "cell_type": "code",
   "execution_count": null,
   "metadata": {},
   "outputs": [],
   "source": [
    "\"\"\"\n",
    "\n",
    "\n",
    "\n",
    "try\n",
    "    b_0, min_loss,coord_ab = update_points([a_0,b_0,c_0,d_0, e_0, f_0], 2, b_0_set, min_loss,  coord_ab, coord_cd, coord_ef,input_file, output_file)\n",
    "    println(\"Updated b_0 from \", old_b, \" to \", b_0)\n",
    "catch\n",
    "    println(\"Cant update b_0\")\n",
    "    b_0 = old_b\n",
    "    min_loss = old_loss\n",
    "end\n",
    "old_loss = min_loss\n",
    "\n",
    "try\n",
    "    \n",
    "catch\n",
    "    println(\"Cant update c_0\")\n",
    "    c_0 = old_c\n",
    "    min_loss = old_loss\n",
    "end\n",
    "old_loss = min_loss\n",
    "\n",
    "\n",
    "try\n",
    "    d_0, min_loss, coord_cd = update_points([a_0,b_0,c_0,d_0, e_0, f_0],  4, d_0_set, min_loss,  coord_ab, coord_cd, coord_ef,input_file, output_file\n",
    "    )\n",
    "    println(\"Updated d_0 from \", old_d, \" to \", d_0)\n",
    "catch\n",
    "    println(\"Cant update d_0\")\n",
    "    d_0 = old_d\n",
    "    min_loss = old_loss\n",
    "end\n",
    "old_loss = min_loss\n",
    "try\n",
    "    e_0, min_loss, coord_ef = update_points([a_0,b_0,c_0,d_0, e_0, f_0], 5, e_0_set, min_loss,  coord_ab, coord_cd, coord_ef,input_file, output_file\n",
    "    )\n",
    "    println(\"Updated e_0 from \", old_e, \" to \", e_0)\n",
    "catch\n",
    "    println(\"Cant update e_0\")\n",
    "    e_0 = old_e\n",
    "    min_loss = old_loss\n",
    "end\n",
    "old_loss = min_loss\n",
    "try\n",
    "    f_0, min_loss, coord_ef = update_points([a_0,b_0,c_0,d_0, e_0,f_0],  6, f_0_set, min_loss,  coord_ab, coord_cd, coord_ef,input_file, output_file\n",
    "    )\n",
    "    println(\"Updated f_0 from \", old_f, \" to \", f_0)\n",
    "catch\n",
    "    println(\"Cant update f_0\")\n",
    "    f_0 = old_f\n",
    "    min_loss = old_loss\n",
    "end\n",
    "old_loss = min_loss\n",
    "\"\"\""
   ]
  },
  {
   "cell_type": "code",
   "execution_count": null,
   "metadata": {},
   "outputs": [],
   "source": []
  }
 ],
 "metadata": {
  "kernelspec": {
   "display_name": "Julia 1.8.3",
   "language": "julia",
   "name": "julia-1.8"
  },
  "language_info": {
   "file_extension": ".jl",
   "mimetype": "application/julia",
   "name": "julia",
   "version": "1.8.3"
  },
  "orig_nbformat": 4,
  "vscode": {
   "interpreter": {
    "hash": "a665b5d41d17b532ea9890333293a1b812fa0b73c9c25c950b3cedf1bebd0438"
   }
  }
 },
 "nbformat": 4,
 "nbformat_minor": 2
}
