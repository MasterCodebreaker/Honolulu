{
 "cells": [
  {
   "cell_type": "code",
   "execution_count": 17,
   "metadata": {},
   "outputs": [
    {
     "data": {
      "text/plain": [
       "mv (generic function with 1 method)"
      ]
     },
     "metadata": {},
     "output_type": "display_data"
    }
   ],
   "source": [
    "using LinearAlgebra\n",
    "using Plots\n",
    "using Ripserer\n",
    "using Distances\n",
    "using Plots\n",
    "using DataFrames, CSV\n",
    "using DelimitedFiles\n",
    "using AbstractAlgebra\n",
    "using MultivariateStats #for pca\n",
    "using IterativeSolvers\n",
    "using NearestNeighbors\n",
    "include(\"mv_function_bens_alg.jl\")\n"
   ]
  },
  {
   "cell_type": "code",
   "execution_count": 18,
   "metadata": {},
   "outputs": [
    {
     "data": {
      "text/plain": [
       "Any[]"
      ]
     },
     "metadata": {},
     "output_type": "display_data"
    }
   ],
   "source": [
    "#Globals\n",
    "K = 10 # in KNN\n",
    "OG_K = 10\n",
    "ITER = 5    # iterations of algorithm\n",
    "min_loss = 1000\n",
    "input_file =\"./cool_big_data.csv\"\n",
    "output_file =\"./point_color\"\n",
    "\n",
    "a_ = []\n",
    "b_ = []\n",
    "c_ = []\n",
    "d_ = []\n",
    "loss_ = []"
   ]
  },
  {
   "cell_type": "code",
   "execution_count": 19,
   "metadata": {},
   "outputs": [
    {
     "data": {
      "text/plain": [
       "loss (generic function with 1 method)"
      ]
     },
     "metadata": {},
     "output_type": "display_data"
    }
   ],
   "source": [
    "# Loss function 0.5 instead of pi\n",
    "\n",
    "function loss(points, coord_ab, coord_cd)\n",
    "    a = mod(coord_cd[points[1]],1.0)\n",
    "    b = mod(coord_cd[points[2]],1.0)\n",
    "    c = mod(coord_ab[points[3]],1.0)\n",
    "    d = mod(coord_ab[points[4]],1.0)\n",
    "    loss = (0.5 - mod(a-b, 1.0))^2 +  (0.5 - mod(c-d,1.0))^2\n",
    "    return loss\n",
    "end"
   ]
  },
  {
   "cell_type": "code",
   "execution_count": 20,
   "metadata": {},
   "outputs": [
    {
     "data": {
      "text/plain": [
       "1-element Vector{Any}:\n",
       " 98"
      ]
     },
     "metadata": {},
     "output_type": "display_data"
    }
   ],
   "source": [
    "# Load Data\n",
    "matrix = readdlm(input_file, ',', Float64)\n",
    "data = []\n",
    "for row in 1:length(matrix[:,1])\n",
    "    arr = [matrix[row,i] for i in 1:length(matrix[1,:])]\n",
    "    push!(data, arr)\n",
    "end\n",
    "\n",
    "# Do zeroth iteration of algerithm with random points\n",
    "\n",
    "# Random distinct start points,\n",
    "# Could be issues with distinct points yielding same piercing hole, and therefore cant do MV\n",
    "a_0,b_0,c_0,d_0 = rand(1:25), rand(25:50), rand(50:75), rand(75:100)\n",
    "\n",
    "\n",
    "# Store to see progress \n",
    "\n",
    "push!(a_, a_0)\n",
    "push!(b_, b_0)\n",
    "push!(c_, c_0)\n",
    "push!(d_, d_0)\n",
    "\n"
   ]
  },
  {
   "cell_type": "code",
   "execution_count": 21,
   "metadata": {},
   "outputs": [
    {
     "name": "stdout",
     "output_type": "stream",
     "text": [
      "Number of points: 100 \n"
     ]
    },
    {
     "name": "stdout",
     "output_type": "stream",
     "text": [
      "Careful if this number is too high: 4476\n"
     ]
    },
    {
     "ename": "BoundsError",
     "evalue": "BoundsError: attempt to access Int64 at index [2]",
     "output_type": "error",
     "traceback": [
      "BoundsError: attempt to access Int64 at index [2]\n",
      "\n",
      "Stacktrace:\n",
      " [1] indexed_iterate(I::Int64, i::Int64, state::Nothing)\n",
      "   @ Base ./tuple.jl:97\n",
      " [2] mv(; double_penetration::Bool, tripple::Bool, start_points::Bool, points::Vector{Int64}, input_file::String, anti_podes::String, output_file::String, penetrating_vectors::String, naive_penetration::Bool)\n",
      "   @ Main ~/Documents/Honolulu/kode/mv_function_bens_alg.jl:609\n",
      " [3] top-level scope\n",
      "   @ ~/Documents/Honolulu/kode/bens_alg_two_coords.ipynb:5"
     ]
    }
   ],
   "source": [
    "\n",
    "for k in 1:ITER\n",
    "    points = [a_[length(a_)], b_[length(b_)], c_[length(c_)], d_[length(d_)]]\n",
    "\n",
    "    mv(points = points, start_points = true, input_file = input_file, output_file = output_file, double_penetration = true)\n",
    "    matrix = readdlm(output_file * \".csv\", ',')\n",
    "    # indexing from 2 because c\n",
    "    coord_ab = matrix[2:end,4]\n",
    "    println(coord_ab[1])\n",
    "    matrix = readdlm(output_file * \"double\" * \".csv\", ',')\n",
    "    coord_cd = matrix[2:end,4]\n",
    "\n",
    "    a_0 = points[1]\n",
    "    b_0 = points[2]\n",
    "    d_0 = points[4]\n",
    "    c_0 = points[3]\n",
    "\n",
    "    \n",
    "    vec_0 = Array([data[b_0][1],data[b_0][2],data[b_0][3]])\n",
    "    vec_1 = Array([data[d_0][1],data[d_0][2],data[d_0][3]])\n",
    "    \n",
    "    data_matrix = zeros(Float64, (3, length(data)))\n",
    "\n",
    "    for col in 1:length(data)\n",
    "        data_matrix[:,col] = [data[col][1],data[col][2],data[col][3]]\n",
    "    end\n",
    "\n",
    "    kdtree = KDTree(data_matrix)\n",
    "    b_0_set, dists = knn(kdtree, vec_0,K, true)\n",
    "    d_0_set, dists = knn(kdtree, vec_1,K, true)\n",
    "\n",
    "\n",
    "    # find b_0^i and d_0^i that minimizes loss\n",
    "\n",
    "    b_0_i = b_0\n",
    "    d_0_i = d_0\n",
    "\n",
    "    # See if stationary\n",
    "    old_b = b_0\n",
    "    old_d = d_0\n",
    "\n",
    "    for i in 1:length(b_0_set)\n",
    "        b_0_i = b_0_set[i]\n",
    "        for j in 1:length(d_0_set)\n",
    "            d_0_i  = d_0_set[j]\n",
    "            if loss([a_0,b_0_i,c_0,d_0_i], coord_ab, coord_cd) <= min_loss\n",
    "                min_loss = loss([a_0,b_0_i,c_0,d_0_i], coord_ab, coord_cd)\n",
    "                b_0 = b_0_i\n",
    "                # Let's freeze one variable\n",
    "                #d_0 = d_0_i \n",
    "            end\n",
    "        end\n",
    "    end\n",
    "    \n",
    "    # Repeat same thing but the other variable\n",
    "    for i in 1:length(b_0_set)\n",
    "        b_0_i = b_0_set[i]\n",
    "        for j in 1:length(d_0_set)\n",
    "            d_0_i  = d_0_set[j]\n",
    "            if loss([a_0,b_0_i,c_0,d_0_i], coord_ab, coord_cd) <= min_loss\n",
    "                min_loss = loss([a_0,b_0_i,c_0,d_0_i], coord_ab, coord_cd)\n",
    "                #b_0 = b_0_i\n",
    "                # Let's freeze one variable\n",
    "                d_0 = d_0_i \n",
    "            end\n",
    "        end\n",
    "    end\n",
    "\n",
    "\n",
    "    if old_b == b_0 && old_d == d_0\n",
    "\n",
    "        println(\"THIS IS A FIXPOINT\")\n",
    "        break\n",
    "        #K += 10\n",
    "        #println(\"K = \", K)\n",
    "    else\n",
    "        K = OG_K\n",
    "    end\n",
    "    println(\"\")\n",
    "    println(\"Loss: \", min_loss)\n",
    "    #println(\"Points vector: \", points)\n",
    "    #println(\"Points: \", a_0,\"-\", b_0,\"-\", c_0,\"-\", d_0)\n",
    "    println(\"\")\n",
    "    push!(a_, a_0)\n",
    "    push!(b_, b_0)\n",
    "    push!(c_, c_0)\n",
    "    push!(d_, d_0)\n",
    "\n",
    "    println(\"Done with: \", k)\n",
    "\n",
    "end"
   ]
  },
  {
   "cell_type": "code",
   "execution_count": 22,
   "metadata": {},
   "outputs": [
    {
     "name": "stdout",
     "output_type": "stream",
     "text": [
      "[12,38,51,97]"
     ]
    }
   ],
   "source": [
    "print(\"[\" * string(a_[1]-1) * \",\" * string(b_[1]-1) * \",\" * string(c_[1]-1) * \",\" * string(d_[1]-1) * \"]\")"
   ]
  },
  {
   "cell_type": "code",
   "execution_count": 23,
   "metadata": {},
   "outputs": [
    {
     "name": "stdout",
     "output_type": "stream",
     "text": [
      "[12,38,51,97]"
     ]
    }
   ],
   "source": [
    "l = length(a_)\n",
    "\n",
    "print(\"[\" * string(a_[l]-1) * \",\" * string(b_[l]-1) * \",\" * string(c_[l]-1) * \",\" * string(d_[l]-1) * \"]\")"
   ]
  }
 ],
 "metadata": {
  "kernelspec": {
   "display_name": "Julia 1.8.3",
   "language": "julia",
   "name": "julia-1.8"
  },
  "language_info": {
   "file_extension": ".jl",
   "mimetype": "application/julia",
   "name": "julia",
   "version": "1.8.3"
  },
  "orig_nbformat": 4,
  "vscode": {
   "interpreter": {
    "hash": "a665b5d41d17b532ea9890333293a1b812fa0b73c9c25c950b3cedf1bebd0438"
   }
  }
 },
 "nbformat": 4,
 "nbformat_minor": 2
}
