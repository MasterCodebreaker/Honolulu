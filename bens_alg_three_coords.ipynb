{
 "cells": [
  {
   "cell_type": "code",
   "execution_count": 48,
   "metadata": {},
   "outputs": [
    {
     "data": {
      "text/plain": [
       "mv (generic function with 1 method)"
      ]
     },
     "metadata": {},
     "output_type": "display_data"
    }
   ],
   "source": [
    "using LinearAlgebra\n",
    "using Plots\n",
    "using Ripserer\n",
    "using Distances\n",
    "using Plots\n",
    "using DataFrames, CSV\n",
    "using DelimitedFiles\n",
    "using AbstractAlgebra\n",
    "using MultivariateStats #for pca\n",
    "using IterativeSolvers\n",
    "using NearestNeighbors\n",
    "include(\"mv_function_bens_alg.jl\")\n"
   ]
  },
  {
   "cell_type": "code",
   "execution_count": 49,
   "metadata": {},
   "outputs": [
    {
     "data": {
      "text/plain": [
       "Any[]"
      ]
     },
     "metadata": {},
     "output_type": "display_data"
    }
   ],
   "source": [
    "#Globals\n",
    "K = 10 # in KNN\n",
    "#OG_K = 10\n",
    "ITER = 30    # iterations of algorithm\n",
    "KKK = 2\n",
    "break_count = KKK #iterations before breakingxs\n",
    "min_loss = 1000\n",
    "min_loss_2 = 1000\n",
    "input_file =\"./cool_big_data.csv\"\n",
    "output_file =\"./point_color\"\n",
    "\n",
    "a_ = []\n",
    "b_ = []\n",
    "c_ = []\n",
    "d_ = []\n",
    "e_ = []\n",
    "f_ = []\n",
    "\n",
    "loss_ = []\n",
    "loss_2 = []\n"
   ]
  },
  {
   "cell_type": "code",
   "execution_count": 50,
   "metadata": {},
   "outputs": [
    {
     "data": {
      "text/plain": [
       "loss_1 (generic function with 1 method)"
      ]
     },
     "metadata": {},
     "output_type": "display_data"
    }
   ],
   "source": [
    "# Loss function 0.5 instead of pi\n",
    "\n",
    "function loss_1(points, coord_ab, coord_cd, coord_ef)\n",
    "    a_cd = mod(coord_cd[points[1]],1.0)\n",
    "    b_cd = mod(coord_cd[points[2]],1.0)\n",
    "\n",
    "    c_ab = mod(coord_ab[points[3]],1.0)\n",
    "    d_ab = mod(coord_ab[points[4]],1.0)\n",
    "\n",
    "    e_ab = mod(coord_ab[points[5]],1.0)\n",
    "    f_ab = mod(coord_ab[points[6]],1.0)\n",
    "\n",
    "    e_cd = mod(coord_cd[points[5]],1.0)\n",
    "    f_cd = mod(coord_cd[points[6]],1.0)\n",
    "\n",
    "    a_ef = mod(coord_ef[points[1]],1.0)\n",
    "    b_ef = mod(coord_ef[points[2]],1.0)\n",
    "    c_ef = mod(coord_ef[points[3]],1.0)\n",
    "    d_ef = mod(coord_ef[points[4]],1.0)\n",
    "\n",
    "    # ab_coords\n",
    "    loss =(0.5 - mod(c_ab-d_ab, 1.0))^2 + (0.5 - mod(e_ab-f_ab,1.0))^2\n",
    "    #loss += abs(0.25 - mod(c_ab - e_ab, 1.0))+ abs(0.25 - mod(e_ab - d_ab, 1.0)) + abs(0.25 - mod(d_ab - f_ab,1.0)) + + abs(0.25 - mod(f_ab - c_ab, 1.0))\n",
    "    #cd_coords\n",
    "    loss += (0.5 - mod(a_cd-b_cd, 1.0))^2 + (0.5 - mod(e_cd-f_cd,1.0))^2\n",
    "    #loss += abs(0.25 - mod(a_cd - e_cd, 1.0)) + abs(0.25 - mod(e_cd - b_cd, 1.0)) + abs(0.25 - mod(b_cd - f_cd,1.0)) + abs(0.25 - mod(f_cd - a_cd, 1.0))\n",
    "    #ef_coords\n",
    "    loss += (0.5 - mod(a_ef-b_ef, 1.0))^2 + (0.5 - mod(c_ef-d_ef,1.0))^2\n",
    "    #loss += abs(0.25 - mod(a_ef - c_ef, 1.0)) + abs(0.25 - mod(c_ef - b_ef, 1.0))  + abs(0.25 - mod(b_ef - d_ef,1.0)) + abs(0.25 - mod(d_ef - a_ef, 1.0)) \n",
    "\n",
    "    return loss\n",
    "end"
   ]
  },
  {
   "cell_type": "code",
   "execution_count": 51,
   "metadata": {},
   "outputs": [
    {
     "data": {
      "text/plain": [
       "loss_2 (generic function with 1 method)"
      ]
     },
     "metadata": {},
     "output_type": "display_data"
    }
   ],
   "source": [
    "# Loss function 0.5 instead of pi\n",
    "\n",
    "function loss_2(points, coord_ab, coord_cd, coord_ef)\n",
    "    a_cd = mod(coord_cd[points[1]],1.0)\n",
    "    b_cd = mod(coord_cd[points[2]],1.0)\n",
    "\n",
    "    c_ab = mod(coord_ab[points[3]],1.0)\n",
    "    d_ab = mod(coord_ab[points[4]],1.0)\n",
    "\n",
    "    e_ab = mod(coord_ab[points[5]],1.0)\n",
    "    f_ab = mod(coord_ab[points[6]],1.0)\n",
    "\n",
    "    e_cd = mod(coord_cd[points[5]],1.0)\n",
    "    f_cd = mod(coord_cd[points[6]],1.0)\n",
    "\n",
    "    a_ef = mod(coord_ef[points[1]],1.0)\n",
    "    b_ef = mod(coord_ef[points[2]],1.0)\n",
    "    c_ef = mod(coord_ef[points[3]],1.0)\n",
    "    d_ef = mod(coord_ef[points[4]],1.0)\n",
    "\n",
    "    # ab_coords\n",
    "    #loss = abs(0.5 - mod(c_ab-d_ab, 1.0)) + abs(0.5 - mod(e_ab-f_ab,1.0))\n",
    "    loss = (0.25 - mod(c_ab - e_ab, 1.0))^2 + (0.25 - mod(e_ab - d_ab, 1.0))^2 + (0.25 - mod(d_ab - f_ab,1.0))^2 + + (0.25 - mod(f_ab - c_ab, 1.0))^2\n",
    "    #cd_coords\n",
    "    #loss += abs(0.5 - mod(a_cd-b_cd, 1.0)) + abs(0.5 - mod(e_cd-f_cd,1.0))\n",
    "    loss += (0.25 - mod(a_cd - e_cd, 1.0))^2 + (0.25 - mod(e_cd - b_cd, 1.0))^2 + (0.25 - mod(b_cd - f_cd,1.0))^2 + (0.25 - mod(f_cd - a_cd, 1.0))^2\n",
    "    #ef_coords\n",
    "    #loss += abs(0.5 - mod(a_ef-b_ef, 1.0)) + abs(0.5 - mod(c_ef-d_ef,1.0))\n",
    "    loss += (0.25 - mod(a_ef - c_ef, 1.0))^2 + (0.25 - mod(c_ef - b_ef, 1.0))^2  + (0.25 - mod(b_ef - d_ef,1.0))^2 + (0.25 - mod(d_ef - a_ef, 1.0))^2 \n",
    "\n",
    "    return loss\n",
    "end"
   ]
  },
  {
   "cell_type": "code",
   "execution_count": 52,
   "metadata": {},
   "outputs": [
    {
     "data": {
      "text/plain": [
       "KDTree{StaticArraysCore.SVector{3, Float64}, Euclidean, Float64}\n",
       "  Number of points: 200\n",
       "  Dimensions: 3\n",
       "  Metric: Euclidean(0.0)\n",
       "  Reordered: true"
      ]
     },
     "metadata": {},
     "output_type": "display_data"
    }
   ],
   "source": [
    "# Load Data\n",
    "matrix = readdlm(input_file, ',', Float64)\n",
    "data = []\n",
    "for row in 1:length(matrix[:,1])\n",
    "    arr = [matrix[row,i] for i in 1:length(matrix[1,:])]\n",
    "    push!(data, arr)\n",
    "end\n",
    "\n",
    "# Do zeroth iteration of algerithm with random points\n",
    "\n",
    "# Random distinct start points,\n",
    "# Could be issues with distinct points yielding same piercing hole, and therefore cant do MV\n",
    "a_0,b_0,c_0,d_0,e_0,f_0 = rand(1:15), rand(15:30), rand(30:45), rand(45:60), rand(60:75), rand(75:100)\n",
    "\n",
    "\n",
    "# Store to see progress \n",
    "\"\"\"\n",
    "push!(a_, a_0)\n",
    "push!(b_, b_0)\n",
    "push!(c_, c_0)\n",
    "push!(d_, d_0)\n",
    "push!(e_, e_0)\n",
    "push!(f_, f_0)\n",
    "\"\"\"\n",
    "\n",
    "data_matrix = zeros(Float64, (3, length(data)))\n",
    "    \n",
    "for col in 1:length(data)\n",
    "    data_matrix[:,col] = [data[col][1],data[col][2],data[col][3]]\n",
    "end\n",
    "\n",
    "kdtree = KDTree(data_matrix)\n",
    "\n",
    "\n",
    "\n"
   ]
  },
  {
   "cell_type": "code",
   "execution_count": 53,
   "metadata": {},
   "outputs": [
    {
     "data": {
      "text/plain": [
       "1-element Vector{Any}:\n",
       " 40"
      ]
     },
     "metadata": {},
     "output_type": "display_data"
    }
   ],
   "source": [
    "\"\"\"\n",
    "FIND BEST POINTS....\n",
    "\"\"\"\n",
    "vec_0 = Array([1,0,0])\n",
    "vec_1 = Array([0,1,0])\n",
    "vec_2 = Array([0,0,1])\n",
    "\n",
    "a_0_set, dists = knn(kdtree, vec_0,K, true)\n",
    "c_0_set, dists = knn(kdtree, vec_1,K, true)\n",
    "e_0_set, dists = knn(kdtree, vec_2,K, true)\n",
    "\n",
    "vec_0 = Array([-1,0,0])\n",
    "vec_1 = Array([0,-1,0])\n",
    "vec_2 = Array([0,0,-1])\n",
    "\n",
    "b_0_set, dists = knn(kdtree, vec_0,K, true)\n",
    "d_0_set, dists = knn(kdtree, vec_1,K, true)\n",
    "f_0_set, dists = knn(kdtree, vec_2,K, true)\n",
    "\n",
    "\n",
    "push!(a_, a_0_set[1])\n",
    "push!(b_, b_0_set[1])\n",
    "push!(c_, c_0_set[1])\n",
    "push!(d_, d_0_set[1])\n",
    "push!(e_, e_0_set[1])\n",
    "push!(f_, f_0_set[1])\n"
   ]
  },
  {
   "cell_type": "code",
   "execution_count": 54,
   "metadata": {},
   "outputs": [
    {
     "data": {
      "text/plain": [
       "6-element Vector{Int64}:\n",
       "  44\n",
       "  70\n",
       " 108\n",
       " 132\n",
       " 145\n",
       "  39"
      ]
     },
     "metadata": {},
     "output_type": "display_data"
    }
   ],
   "source": [
    "sisi =  [a_0_set[1]-1, b_0_set[1]-1, c_0_set[1]-1, d_0_set[1]-1, e_0_set[1]-1, f_0_set[1]-1]"
   ]
  },
  {
   "cell_type": "code",
   "execution_count": 55,
   "metadata": {},
   "outputs": [
    {
     "name": "stdout",
     "output_type": "stream",
     "text": [
      "Number of points: 200 \n"
     ]
    },
    {
     "name": "stdout",
     "output_type": "stream",
     "text": [
      "Careful if this number is too high: 19003\n",
      "number of 1-simps: "
     ]
    },
    {
     "name": "stdout",
     "output_type": "stream",
     "text": [
      "639\n",
      " \n",
      "number of all simps: 2462\n",
      "Starting second penetration"
     ]
    },
    {
     "name": "stdout",
     "output_type": "stream",
     "text": [
      "\n",
      "number of 1-simps: "
     ]
    },
    {
     "name": "stdout",
     "output_type": "stream",
     "text": [
      "639\n",
      " \n",
      "number of all simps: 2462\n",
      "Starting third penetration"
     ]
    },
    {
     "name": "stdout",
     "output_type": "stream",
     "text": [
      "\n",
      "number of 1-simps: "
     ]
    },
    {
     "name": "stdout",
     "output_type": "stream",
     "text": [
      "639\n",
      " \n",
      "number of all simps: 2462\n",
      "All penetration done."
     ]
    },
    {
     "name": "stdout",
     "output_type": "stream",
     "text": [
      "\n",
      "points\n",
      "[44,70,108,132,145,39]\n",
      "-------\n",
      "Init Loss: 0.0076322280723013745\n",
      "Init Loss222: 0.0076322280723013745\n",
      " DOing the other loss function\n",
      "Done with: 1\n",
      "Number of points: 200 \n"
     ]
    },
    {
     "name": "stdout",
     "output_type": "stream",
     "text": [
      "Careful if this number is too high: 19003\n",
      "number of 1-simps: "
     ]
    },
    {
     "name": "stdout",
     "output_type": "stream",
     "text": [
      "639\n",
      " \n",
      "number of all simps: 2462\n",
      "Starting second penetration"
     ]
    },
    {
     "name": "stdout",
     "output_type": "stream",
     "text": [
      "\n",
      "number of 1-simps: "
     ]
    },
    {
     "name": "stdout",
     "output_type": "stream",
     "text": [
      "639\n",
      " \n",
      "number of all simps: 2462\n",
      "Starting third penetration"
     ]
    },
    {
     "name": "stdout",
     "output_type": "stream",
     "text": [
      "\n",
      "number of 1-simps: "
     ]
    },
    {
     "name": "stdout",
     "output_type": "stream",
     "text": [
      "639\n",
      " \n",
      "number of all simps: 2462\n",
      "All penetration done."
     ]
    },
    {
     "name": "stdout",
     "output_type": "stream",
     "text": [
      "\n",
      "points\n",
      "[44,91,108,132,159,39]\n",
      "-------\n",
      "Loss: 0.0076322280723013745 ---- Loss2: 2.007760586561238\n",
      "Done with: 2\n",
      "Number of points: 200 \n",
      "Careful if this number is too high: "
     ]
    },
    {
     "name": "stdout",
     "output_type": "stream",
     "text": [
      "19003\n"
     ]
    },
    {
     "name": "stdout",
     "output_type": "stream",
     "text": [
      "number of 1-simps: 639\n",
      " \n",
      "number of all simps: 2462\n"
     ]
    },
    {
     "name": "stdout",
     "output_type": "stream",
     "text": [
      "Starting second penetration\n"
     ]
    },
    {
     "name": "stdout",
     "output_type": "stream",
     "text": [
      "number of 1-simps: 639\n",
      " \n",
      "number of all simps: 2462\n"
     ]
    },
    {
     "name": "stdout",
     "output_type": "stream",
     "text": [
      "Starting third penetration\n"
     ]
    },
    {
     "name": "stdout",
     "output_type": "stream",
     "text": [
      "number of 1-simps: 639\n",
      " \n",
      "number of all simps: 2462\n"
     ]
    },
    {
     "name": "stdout",
     "output_type": "stream",
     "text": [
      "All penetration done.\n",
      "points\n",
      "[44,2,108,132,159,39]\n",
      "-------\n",
      "Loss: 0.0020058200466486096 ---- Loss2: 2.007760586561238\n",
      " DOing the other loss function\n",
      "FIXX POINTT\n",
      "Done with: 3\n",
      "Number of points: 200 \n"
     ]
    },
    {
     "name": "stdout",
     "output_type": "stream",
     "text": [
      "Careful if this number is too high: 19003\n",
      "number of 1-simps: "
     ]
    },
    {
     "name": "stdout",
     "output_type": "stream",
     "text": [
      "639\n",
      " \n",
      "number of all simps: 2462\n",
      "Starting second penetration"
     ]
    },
    {
     "name": "stdout",
     "output_type": "stream",
     "text": [
      "\n",
      "number of 1-simps: "
     ]
    },
    {
     "name": "stdout",
     "output_type": "stream",
     "text": [
      "639\n",
      " \n",
      "number of all simps: 2462\n",
      "Starting third penetration"
     ]
    },
    {
     "name": "stdout",
     "output_type": "stream",
     "text": [
      "\n",
      "number of 1-simps: "
     ]
    },
    {
     "name": "stdout",
     "output_type": "stream",
     "text": [
      "639\n",
      " \n",
      "number of all simps: 2462\n",
      "All penetration done."
     ]
    },
    {
     "name": "stdout",
     "output_type": "stream",
     "text": [
      "\n",
      "points\n",
      "[44,70,108,132,145,39]\n",
      "-------\n",
      "Loss: 0.0020058200466486096 ---- Loss2: 2.007760586561238\n",
      "FIXX POINTT\n"
     ]
    }
   ],
   "source": [
    "#min_loss_2  = 100   \n",
    "for k in 1:ITER\n",
    "    NN = length(a_)\n",
    "    #points = [a_[NN], b_[NN], c_[NN], d_[NN], e_[NN], f_[NN]]\n",
    "    points = [a_0_set[1], b_0_set[1], c_0_set[1], d_0_set[1], e_0_set[1], f_0_set[1]]\n",
    "\n",
    "    mv(points = points, start_points = true, input_file = input_file, output_file = output_file, double_penetration = true, tripple = true)\n",
    "    # indexing from 2 because c\n",
    "    matrix = readdlm(output_file * \".csv\", ',')\n",
    "    coord_ab = matrix[2:end,4]\n",
    "\n",
    "    matrix = readdlm(output_file * \"double\" * \".csv\", ',')\n",
    "    coord_cd = matrix[2:end,4]\n",
    "\n",
    "    matrix = readdlm(output_file * \"tripple\" * \".csv\", ',')\n",
    "    coord_ef = matrix[2:end,4]\n",
    "\n",
    "\n",
    "\n",
    "    \n",
    "    a_0 = points[1]\n",
    "    b_0 = points[2]\n",
    "    c_0 = points[3]\n",
    "    d_0 = points[4]\n",
    "    e_0 = points[5]\n",
    "    f_0 = points[6]\n",
    "    #println(\"Points \", points)\n",
    "\n",
    "    l = length(a_)\n",
    "    println(\"points\")\n",
    "    println(\"[\" * string(a_[l]-1) * \",\" * string(b_[l]-1) * \",\" * string(c_[l]-1) * \",\" \n",
    "    * string(d_[l]-1) * \",\" * string(e_[l]-1) *  \",\" * string(f_[l]-1) * \"]\")\n",
    "    println(\"-------\")\n",
    "    if k == 1\n",
    "        min_loss = loss_1([a_0,b_0,c_0,d_0, e_0, f_0], coord_ab, coord_cd, coord_ef)\n",
    "        min_loss_2 = loss_2([a_0,b_0,c_0,d_0, e_0, f_0], coord_ab, coord_cd, coord_ef) \n",
    "        \n",
    "        # Init Loss\n",
    "        println(\"Init Loss: \", min_loss)\n",
    "        println(\"Init Loss2: \", min_loss_2)\n",
    "        push!(loss_, min_loss)\n",
    "        push!(loss_2, min_loss)\n",
    "    else\n",
    "        println(\"Loss: \", min_loss, \" ---- Loss2: \", min_loss_2)\n",
    "        push!(loss_, min_loss)\n",
    "        push!(loss_2, min_loss)\n",
    "    end\n",
    "    \n",
    "\n",
    "    ####\n",
    "    #We move one both points in each pair\n",
    "    ####\n",
    "\n",
    "    # See if stationary\n",
    "    old_b = b_0\n",
    "    old_d = d_0\n",
    "    old_f = f_0\n",
    "    old_a = a_0\n",
    "    old_c = c_0\n",
    "    old_e = e_0\n",
    "\n",
    "\n",
    "\n",
    "    bol1 = true\n",
    "    bol2 = true\n",
    "    bol3 = true\n",
    "\n",
    "\n",
    "    vec_0 = Array([data[b_0][1],data[b_0][2],data[b_0][3]])\n",
    "    vec_1 = Array([data[d_0][1],data[d_0][2],data[d_0][3]])\n",
    "    vec_2 = Array([data[f_0][1],data[f_0][2],data[f_0][3]])\n",
    "    \n",
    "    b_0_set, dists = knn(kdtree, vec_0,K, true)\n",
    "    d_0_set, dists = knn(kdtree, vec_1,K, true)\n",
    "    f_0_set, dists = knn(kdtree, vec_2,K, true)\n",
    "\n",
    "\n",
    "    vec_0 = Array([data[a_0][1],data[a_0][2],data[a_0][3]])\n",
    "    vec_1 = Array([data[c_0][1],data[c_0][2],data[c_0][3]])\n",
    "    vec_2 = Array([data[e_0][1],data[e_0][2],data[e_0][3]])\n",
    "\n",
    "    a_0_set, dists = knn(kdtree, vec_0,K, true)\n",
    "    c_0_set, dists = knn(kdtree, vec_1,K, true)\n",
    "    e_0_set, dists = knn(kdtree, vec_2,K, true)\n",
    "\n",
    "    # find b_0^i and d_0^1 that minimizes loss\n",
    "\n",
    "\n",
    "\n",
    "    a_0_i = a_0\n",
    "    c_0_i = c_0\n",
    "    e_0_i = e_0\n",
    "\n",
    "    b_0_i = b_0\n",
    "    d_0_i = d_0\n",
    "    f_0_i = f_0\n",
    "     \n",
    "    if mod(k, 2) == 0\n",
    "        if bol1\n",
    "            for i in 1:length(b_0_set)\n",
    "                b_0_i = b_0_set[i]\n",
    "                l = loss_1([a_0,b_0_i,c_0,d_0, e_0, f_0], coord_ab, coord_cd, coord_ef)\n",
    "                if  l < min_loss\n",
    "                    min_loss = l\n",
    "                    b_0 = b_0_i\n",
    "                    bol1 = false\n",
    "                end\n",
    "            end\n",
    "        end\n",
    "        if bol2\n",
    "            for i in 1:length(c_0_set)\n",
    "                c_0_i  = c_0_set[i]\n",
    "                l = loss_1([a_0,b_0,c_0_i,d_0, e_0, f_0], coord_ab, coord_cd, coord_ef)\n",
    "                if  l < min_loss\n",
    "                    min_loss = l\n",
    "                    c_0 = c_0_i\n",
    "                    bol2 = false\n",
    "                end\n",
    "            end\n",
    "        end\n",
    "    \n",
    "        if bol2\n",
    "            for i in 1:length(d_0_set)\n",
    "                d_0_i  = d_0_set[i]\n",
    "                l = loss_1([a_0,b_0,c_0,d_0_i, e_0, f_0], coord_ab, coord_cd, coord_ef)\n",
    "                if  l < min_loss\n",
    "                    min_loss = l\n",
    "                    d_0 = d_0_i\n",
    "                    #bol1 = false\n",
    "                end\n",
    "            end\n",
    "        end\n",
    "        if bol3\n",
    "            for i in 1:length(e_0_set)\n",
    "                e_0_i  = e_0_set[i]\n",
    "                l = loss_1([a_0,b_0,c_0,d_0, e_0_i, f_0], coord_ab, coord_cd, coord_ef)\n",
    "                if  l < min_loss\n",
    "                    min_loss = l\n",
    "                    e_0 = e_0_i\n",
    "                    bol3 = false\n",
    "                end\n",
    "            end\n",
    "        end\n",
    "        if bol3\n",
    "            for i in 1:length(f_0_set)\n",
    "                f_0_i  = f_0_set[i]\n",
    "                l = loss_1([a_0,b_0,c_0,d_0, e_0, f_0_i], coord_ab, coord_cd, coord_ef)\n",
    "                if  l < min_loss\n",
    "                    min_loss = l\n",
    "                    f_0 = f_0_i\n",
    "                end\n",
    "            end\n",
    "        end\n",
    "\n",
    "    else\n",
    "        println(\" DOing the other loss function\")\n",
    "        if bol1\n",
    "            for i in 1:length(b_0_set)\n",
    "                b_0_i = b_0_set[i]\n",
    "                l = loss_2([a_0,b_0_i,c_0,d_0, e_0, f_0], coord_ab, coord_cd, coord_ef)\n",
    "                if  l < min_loss_2\n",
    "                    min_loss_2 = l\n",
    "                    b_0 = b_0_i\n",
    "                    bol1 = false\n",
    "                end\n",
    "            end\n",
    "        end\n",
    "        if bol2\n",
    "            for i in 1:length(c_0_set)\n",
    "                c_0_i  = c_0_set[i]\n",
    "                l = loss_2([a_0,b_0,c_0_i,d_0, e_0, f_0], coord_ab, coord_cd, coord_ef)\n",
    "                if  l < min_loss_2\n",
    "                    min_loss_2 = l\n",
    "                    c_0 = c_0_i\n",
    "                    bol2 = false\n",
    "                end\n",
    "            end\n",
    "        end\n",
    "    \n",
    "        if bol2\n",
    "            for i in 1:length(d_0_set)\n",
    "                d_0_i  = d_0_set[i]\n",
    "                l = loss_2([a_0,b_0,c_0,d_0_i, e_0, f_0], coord_ab, coord_cd, coord_ef)\n",
    "                if  l < min_loss_2\n",
    "                    min_loss_2 = l\n",
    "                    d_0 = d_0_i\n",
    "                    #bol1 = false\n",
    "                end\n",
    "            end\n",
    "        end\n",
    "        if bol3\n",
    "            for i in 1:length(e_0_set)\n",
    "                e_0_i  = e_0_set[i]\n",
    "                l = loss_2([a_0,b_0,c_0,d_0, e_0_i, f_0], coord_ab, coord_cd, coord_ef)\n",
    "                if  l < min_loss_2\n",
    "                    min_loss_2 = l\n",
    "                    e_0 = e_0_i\n",
    "                    bol3 = false\n",
    "                end\n",
    "            end\n",
    "        end\n",
    "        if bol3\n",
    "            for i in 1:length(f_0_set)\n",
    "                f_0_i  = f_0_set[i]\n",
    "                l = loss_2([a_0,b_0,c_0,d_0, e_0, f_0_i], coord_ab, coord_cd, coord_ef)\n",
    "                if  l < min_loss_2\n",
    "                    min_loss_2 = l\n",
    "                    f_0 = f_0_i\n",
    "                end\n",
    "            end\n",
    "        end\n",
    "\n",
    "\n",
    "    end\n",
    "    #println(\"LOSS 2 \", min_loss_2)\n",
    " \n",
    "\n",
    "    if old_b == b_0 && old_d == d_0 && old_f == f_0 && old_a == a_0 && old_c == c_0 && old_e == e_0\n",
    "        println(\"FIXX POINTT\")\n",
    "        break_count -=1\n",
    "        if break_count == 0\n",
    "            break\n",
    "        end\n",
    "        #break\n",
    "        #K += 10\n",
    "        #println(\"K = \", K)\n",
    "    else\n",
    "        break_count = KKK \n",
    "    end\n",
    "    push!(a_, a_0)\n",
    "    push!(b_, b_0)\n",
    "    push!(c_, c_0)\n",
    "    push!(d_, d_0)\n",
    "    push!(e_, e_0)\n",
    "    push!(f_, f_0)\n",
    "\n",
    "\n",
    "\n",
    "    println(\"Done with: \", k)\n",
    "\n",
    "end"
   ]
  },
  {
   "cell_type": "code",
   "execution_count": 56,
   "metadata": {},
   "outputs": [
    {
     "data": {
      "text/plain": [
       "4-element Vector{Any}:\n",
       " 0.0076322280723013745\n",
       " 0.0076322280723013745\n",
       " 0.0020058200466486096\n",
       " 0.0020058200466486096"
      ]
     },
     "metadata": {},
     "output_type": "display_data"
    }
   ],
   "source": [
    "loss_"
   ]
  },
  {
   "cell_type": "code",
   "execution_count": null,
   "metadata": {},
   "outputs": [],
   "source": [
    "loss_2"
   ]
  },
  {
   "cell_type": "code",
   "execution_count": 57,
   "metadata": {},
   "outputs": [
    {
     "name": "stdout",
     "output_type": "stream",
     "text": [
      "Input:\n",
      "[44,70,108,132,145,39]\n"
     ]
    }
   ],
   "source": [
    "println(\"Input:\")\n",
    "println(\"[\" * string(a_[1]-1) * \",\" * string(b_[1]-1) * \",\"\n",
    " * string(c_[1]-1) * \",\" * string(d_[1]-1) *  \",\" * string(e_[1]-1) *  \",\" * string(f_[1]-1) * \"]\")"
   ]
  },
  {
   "cell_type": "code",
   "execution_count": 58,
   "metadata": {},
   "outputs": [
    {
     "name": "stdout",
     "output_type": "stream",
     "text": [
      "Output:\n",
      "[44,70,108,132,145,39]\n"
     ]
    }
   ],
   "source": [
    "l = length(a_)\n",
    "println(\"Output:\")\n",
    "println(\"[\" * string(a_[l]-1) * \",\" * string(b_[l]-1) * \",\" * string(c_[l]-1) * \",\" \n",
    "* string(d_[l]-1) * \",\" * string(e_[l]-1) *  \",\" * string(f_[l]-1) * \"]\")"
   ]
  },
  {
   "cell_type": "code",
   "execution_count": 59,
   "metadata": {},
   "outputs": [],
   "source": []
  }
 ],
 "metadata": {
  "kernelspec": {
   "display_name": "Julia 1.8.3",
   "language": "julia",
   "name": "julia-1.8"
  },
  "language_info": {
   "file_extension": ".jl",
   "mimetype": "application/julia",
   "name": "julia",
   "version": "1.8.3"
  },
  "orig_nbformat": 4,
  "vscode": {
   "interpreter": {
    "hash": "a665b5d41d17b532ea9890333293a1b812fa0b73c9c25c950b3cedf1bebd0438"
   }
  }
 },
 "nbformat": 4,
 "nbformat_minor": 2
}
