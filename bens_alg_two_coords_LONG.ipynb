{
 "cells": [
  {
   "cell_type": "code",
   "execution_count": 99,
   "metadata": {},
   "outputs": [
    {
     "data": {
      "text/plain": [
       "mv (generic function with 1 method)"
      ]
     },
     "metadata": {},
     "output_type": "display_data"
    }
   ],
   "source": [
    "using LinearAlgebra\n",
    "using Plots\n",
    "using Ripserer\n",
    "using Distances\n",
    "using Plots\n",
    "using DataFrames, CSV\n",
    "using DelimitedFiles\n",
    "using AbstractAlgebra\n",
    "using MultivariateStats #for pca\n",
    "using IterativeSolvers\n",
    "using NearestNeighbors\n",
    "include(\"mv_function_bens_alg_no_save.jl\")\n"
   ]
  },
  {
   "cell_type": "code",
   "execution_count": 100,
   "metadata": {},
   "outputs": [
    {
     "data": {
      "text/plain": [
       "Any[]"
      ]
     },
     "metadata": {},
     "output_type": "display_data"
    }
   ],
   "source": [
    "#Globals\n",
    "KKK = 2\n",
    "K = 5 # in KNN\n",
    "OG_K = 10\n",
    "ITER = 10    # iterations of algorithm\n",
    "break_index = KKK\n",
    "min_loss = 1000\n",
    "input_file =\"./cool_big_data.csv\"\n",
    "output_file =\"./point_color\"\n",
    "\n",
    "a_ = []\n",
    "b_ = []\n",
    "c_ = []\n",
    "d_ = []\n",
    "loss_ = []"
   ]
  },
  {
   "cell_type": "code",
   "execution_count": 101,
   "metadata": {},
   "outputs": [
    {
     "data": {
      "text/plain": [
       "loss (generic function with 1 method)"
      ]
     },
     "metadata": {},
     "output_type": "display_data"
    }
   ],
   "source": [
    "# Loss function 0.5 instead of pi\n",
    "\n",
    "function loss(points, coord_ab, coord_cd)\n",
    "    a = mod(coord_cd[points[1]],1.0)\n",
    "    b = mod(coord_cd[points[2]],1.0)\n",
    "    c = mod(coord_ab[points[3]],1.0)\n",
    "    d = mod(coord_ab[points[4]],1.0)\n",
    "\n",
    "    dif_1 = 0.5 - mod(a-b, 1.0)\n",
    "\n",
    "    dif_2 = 0.5 - mod(c-d, 1.0)\n",
    "\n",
    "    loss = (dif_1)^2 +  (dif_2)^2\n",
    "\n",
    "    return loss\n",
    "end"
   ]
  },
  {
   "cell_type": "code",
   "execution_count": 102,
   "metadata": {},
   "outputs": [
    {
     "data": {
      "text/plain": [
       "(5, 43, 63, 82)"
      ]
     },
     "metadata": {},
     "output_type": "display_data"
    }
   ],
   "source": [
    "# Load Datab\n",
    "matrix = readdlm(input_file, ',', Float64)\n",
    "data = []\n",
    "for row in 1:length(matrix[:,1])\n",
    "    arr = [matrix[row,i] for i in 1:length(matrix[1,:])]\n",
    "    push!(data, arr)\n",
    "end\n",
    "\n",
    "# Do zeroth iteration of algerithm with random points\n",
    "l = length(matrix[:,1])\n",
    "lll = l\n",
    "# Random distinct start points,\n",
    "# Could be issues with distinct points ybielding same piercing hole, and therefore cant do MV\n",
    "#a_0,b_0,c_0,d_0 = rand(1:25), rand(25:50), rand(50:75), rand(75:100)\n",
    "\n",
    "a_0,b_0,c_0,d_0 = rand(1:floor(Int, l/4)), rand(floor(Int, l/4):floor(Int, l/2)), rand(floor(Int, l/2):floor(Int,3*l/4)), rand(floor(Int, 3*l/4):l)\n",
    "\n",
    "# Store to see progress \n",
    "\n",
    "push!(a_, a_0)\n",
    "push!(b_, b_0)\n",
    "push!(c_, c_0)\n",
    "push!(d_, d_0)\n",
    "\n",
    "\n",
    "data_matrix = zeros(Float64, (3, length(data)))\n",
    "\n",
    "for col in 1:length(data)\n",
    "    data_matrix[:,col] = [data[col][1],data[col][2],data[col][3]]\n",
    "end\n",
    "\n",
    "kdtree = KDTree(data_matrix)\n",
    "a_0,b_0,c_0,d_0"
   ]
  },
  {
   "cell_type": "code",
   "execution_count": 103,
   "metadata": {},
   "outputs": [
    {
     "data": {
      "text/plain": [
       "(5, 43, 63, 82)"
      ]
     },
     "metadata": {},
     "output_type": "display_data"
    }
   ],
   "source": [
    "#a_0,b_0,c_0,d_0 = (22, 34, 64, 81)\n",
    "a_0,b_0,c_0,d_0 "
   ]
  },
  {
   "cell_type": "code",
   "execution_count": 104,
   "metadata": {},
   "outputs": [
    {
     "data": {
      "text/plain": [
       "\"# Perfect start\\nvec_0 = Array([1,0,0])\\nvec_1 = Array([0,1,0])\\nvec_2 = Array([0,0,1])\\n\\na_0_set, dists = knn(kdtree, vec_0,K, true)\\nc_0_set, dists = knn(kdtree, vec_1,K, true)\\n\\nvec_0 = Array([-1,0,0])\\nvec_1 = Array([0,-1,0])\\nvec_2 = Array([0,0,-1])\\n\\nb_0_set, dists = knn(kdtree, vec_0,K, true)\\nd_0_set, dists = knn(kdtree, vec_1,K, true)\\n\\n\\npush!(a_, a_0_set[1])\\npush!(b_, b_0_set[1])\\npush!(c_, c_0_set[1])\\npush!(d_, d_0_set[1])\\n\""
      ]
     },
     "metadata": {},
     "output_type": "display_data"
    }
   ],
   "source": [
    "\"\"\"\n",
    "# Perfect start\n",
    "vec_0 = Array([1,0,0])\n",
    "vec_1 = Array([0,1,0])\n",
    "vec_2 = Array([0,0,1])\n",
    "\n",
    "a_0_set, dists = knn(kdtree, vec_0,K, true)\n",
    "c_0_set, dists = knn(kdtree, vec_1,K, true)\n",
    "\n",
    "vec_0 = Array([-1,0,0])\n",
    "vec_1 = Array([0,-1,0])\n",
    "vec_2 = Array([0,0,-1])\n",
    "\n",
    "b_0_set, dists = knn(kdtree, vec_0,K, true)\n",
    "d_0_set, dists = knn(kdtree, vec_1,K, true)\n",
    "\n",
    "\n",
    "push!(a_, a_0_set[1])\n",
    "push!(b_, b_0_set[1])\n",
    "push!(c_, c_0_set[1])\n",
    "push!(d_, d_0_set[1])\n",
    "\"\"\"\n"
   ]
  },
  {
   "cell_type": "code",
   "execution_count": 105,
   "metadata": {},
   "outputs": [
    {
     "name": "stdout",
     "output_type": "stream",
     "text": [
      "Current points: \n",
      "[4,42,62,81]\n"
     ]
    },
    {
     "name": "stdout",
     "output_type": "stream",
     "text": [
      "\n",
      "Loss: 0.3401799957141878\n",
      "\n",
      "________________________________________________________________\n",
      "Done with: 1 Break_index: 2\n",
      "________________________________________________________________\n",
      "Current points: \n",
      "[4,52,56,81]\n"
     ]
    },
    {
     "name": "stdout",
     "output_type": "stream",
     "text": [
      "\n",
      "Loss: 0.2681549683803055\n",
      "\n",
      "________________________________________________________________\n",
      "Done with: 2 Break_index: 2\n",
      "________________________________________________________________\n",
      "Current points: \n",
      "[4,28,69,81]\n"
     ]
    },
    {
     "name": "stdout",
     "output_type": "stream",
     "text": [
      "\n",
      "Loss: 0.12962343396827866\n",
      "\n",
      "________________________________________________________________\n",
      "Done with: 3 Break_index: 2\n",
      "________________________________________________________________\n",
      "Current points: \n",
      "[4,46,34,81]\n"
     ]
    },
    {
     "name": "stdout",
     "output_type": "stream",
     "text": [
      "\n",
      "Loss: 0.07450029902735443\n",
      "\n",
      "________________________________________________________________\n",
      "Done with: 4 Break_index: 2\n",
      "________________________________________________________________\n",
      "Current points: \n",
      "[4,10,33,81]\n"
     ]
    },
    {
     "name": "stdout",
     "output_type": "stream",
     "text": [
      "\n",
      "Loss: 0.04461077429152074\n",
      "\n",
      "________________________________________________________________\n",
      "Done with: 5 Break_index: 2\n",
      "________________________________________________________________\n",
      "Current points: \n",
      "[4,59,60,81]\n"
     ]
    },
    {
     "name": "stdout",
     "output_type": "stream",
     "text": [
      "\n",
      "Loss: 0.012340180995503616\n",
      "\n",
      "________________________________________________________________\n",
      "Done with: 6 Break_index: 2\n",
      "________________________________________________________________\n",
      "Current points: \n",
      "[4,59,60,12]\n"
     ]
    },
    {
     "name": "stdout",
     "output_type": "stream",
     "text": [
      "\n",
      "Loss: 0.0013212098299891098\n",
      "\n",
      "________________________________________________________________\n",
      "Done with: 7 Break_index: 2\n",
      "________________________________________________________________\n",
      "Current points: \n",
      "[4,59,60,26]\n"
     ]
    },
    {
     "name": "stdout",
     "output_type": "stream",
     "text": [
      "THIS IS A FIXPOINT\n",
      "\n",
      "Loss: 0.0013212098299891098\n",
      "\n",
      "________________________________________________________________\n",
      "Done with: 8 Break_index: 1\n",
      "________________________________________________________________\n",
      "Current points: \n",
      "[4,59,60,26]\n"
     ]
    },
    {
     "name": "stdout",
     "output_type": "stream",
     "text": [
      "THIS IS A FIXPOINT\n",
      "\n",
      "Loss: 0.0013212098299891098\n",
      "\n",
      "DONE\n",
      "DONE"
     ]
    },
    {
     "name": "stdout",
     "output_type": "stream",
     "text": [
      "\n"
     ]
    }
   ],
   "source": [
    "\n",
    "for k in 1:ITER\n",
    "    println(\"Current points: \")\n",
    "    l = length(a_)\n",
    "    println(\"[\" * string(a_[l]-1) * \",\" * string(b_[l]-1) * \",\" * string(c_[l]-1) * \",\" * string(d_[l]-1) * \"]\")\n",
    "    points = [a_[l], b_[l], c_[l], d_[l]]\n",
    "\n",
    "\n",
    "    bool_boy = true\n",
    "\n",
    "    a_0 = points[1]\n",
    "    b_0 = points[2]\n",
    "    d_0 = points[4]\n",
    "    c_0 = points[3]\n",
    "\n",
    "    vec_0 = Array([data[a_0][1],data[a_0][2],data[a_0][3]])\n",
    "    vec_1 = Array([data[b_0][1],data[b_0][2],data[b_0][3]])\n",
    "    vec_2 = Array([data[c_0][1],data[c_0][2],data[c_0][3]])\n",
    "    vec_3 = Array([data[d_0][1],data[d_0][2],data[d_0][3]])\n",
    "    \n",
    "    \n",
    "    a_0_set, dists = knn(kdtree, vec_0,K, true)\n",
    "    b_0_set, dists = knn(kdtree, vec_1,K, true)\n",
    "    c_0_set, dists = knn(kdtree, vec_2,K, true)\n",
    "    d_0_set, dists = knn(kdtree, vec_3,K, true)\n",
    "    \n",
    "\n",
    "\n",
    "    # find b_0^i and d_0^i that minimizes loss\n",
    "    a_0_i = a_0\n",
    "    b_0_i = b_0\n",
    "    c_0_i = c_0\n",
    "    d_0_i = d_0\n",
    "\n",
    "    # See if stationary\n",
    "    old_a = a_0\n",
    "    old_b = b_0\n",
    "    old_c = c_0\n",
    "    old_d = d_0\n",
    "    \n",
    "    for i in 1:length(b_0_set)\n",
    "        b_0_i = b_0_set[i]\n",
    "        \n",
    "        coord_ab, coord_cd = mv(points = [a_0,b_0_i, c_0, d_0], start_points = true, input_file = input_file, output_file = output_file, double_penetration = true)\n",
    "        l = loss([a_0,b_0_i,c_0,d_0], coord_ab, coord_cd)\n",
    "        if  l < min_loss\n",
    "            min_loss = l\n",
    "            b_0 = b_0_i\n",
    "\n",
    "        end\n",
    "  \n",
    "\n",
    "    end\n",
    "    \n",
    "    for i in 1:length(c_0_set)\n",
    "        c_0_i = c_0_set[i]\n",
    "        coord_ab, coord_cd = mv(points = [a_0,b_0, c_0_i, d_0], start_points = true, input_file = input_file, output_file = output_file, double_penetration = true)\n",
    "        l = loss([a_0,b_0,c_0_i,d_0], coord_ab, coord_cd)\n",
    "        if  l < min_loss\n",
    "            min_loss = l\n",
    "            c_0 = c_0_i\n",
    "            bool_boy = false\n",
    "        end\n",
    "      \n",
    "    end\n",
    "    if bool_boy\n",
    "        for i in 1:length(d_0_set)\n",
    "            d_0_i = d_0_set[i]\n",
    "            coord_ab, coord_cd = mv(points = [a_0,b_0, c_0, d_0_i], start_points = true, input_file = input_file, output_file = output_file, double_penetration = true)\n",
    "            l = loss([a_0,b_0,c_0,d_0_i], coord_ab, coord_cd)\n",
    "            if  l < min_loss\n",
    "                min_loss = l\n",
    "                d_0 = d_0_i\n",
    "            end\n",
    "        end\n",
    "    end\n",
    "    \"\"\"\n",
    "    try \n",
    "        coord_ab, coord_cd\n",
    "    catch\n",
    "        l = lll\n",
    "        println(\"Ok, points suck, try new points\",  [a_0,b_0,c_0,d_0] )\n",
    "        a_0,b_0,c_0,d_0= rand(1:floor(Int, l/4)), rand(floor(Int, l/4):floor(Int, l/2)), rand(floor(Int, l/2):floor(Int,3*l/4)), rand(floor(Int, 3*l/4):l)\n",
    "        coord_ab, coord_cd = mv(points = [a_0,b_0, c_0, d_0], start_points = true, input_file = input_file, output_file = output_file, double_penetration = true)\n",
    "    end\n",
    "    \"\"\"\n",
    "\n",
    "    if old_b == b_0 && old_d == d_0 && old_a == a_0 && old_c == c_0\n",
    "        break_index -=1\n",
    "        println(\"THIS IS A FIXPOINT\")\n",
    "    else\n",
    "        break_index = KKK\n",
    "    end\n",
    "\n",
    "    println(\"\")\n",
    "    println(\"Loss: \", min_loss)\n",
    "    push!(loss_, min_loss)\n",
    "\n",
    "    println(\"\")\n",
    "    push!(a_, a_0)\n",
    "    push!(b_, b_0)\n",
    "    push!(c_, c_0)\n",
    "    push!(d_, d_0)\n",
    "\n",
    "    if break_index == 0\n",
    "        #mv(points = [a_0,b_0_i, c_0, d_0], start_points = true, input_file = input_file, output_file = output_file, double_penetration = true)\n",
    "        break\n",
    "    end\n",
    "    println(\"________________________________________________________________\")\n",
    "    println(\"Done with: \", k, \" Break_index: \", break_index)\n",
    "    println(\"________________________________________________________________\")\n",
    "\n",
    "end\n",
    "\n",
    "println(\"DONE\")\n",
    "mv(points = [a_0,b_0, c_0, d_0], start_points = true, input_file = input_file, output_file = output_file, double_penetration = true)\n",
    "println(\"DONE\")\n",
    "\n"
   ]
  },
  {
   "cell_type": "code",
   "execution_count": 106,
   "metadata": {},
   "outputs": [
    {
     "data": {
      "text/plain": [
       "9-element Vector{Any}:\n",
       " 0.3401799957141878\n",
       " 0.2681549683803055\n",
       " 0.12962343396827866\n",
       " 0.07450029902735443\n",
       " 0.04461077429152074\n",
       " 0.012340180995503616\n",
       " 0.0013212098299891098\n",
       " 0.0013212098299891098\n",
       " 0.0013212098299891098"
      ]
     },
     "metadata": {},
     "output_type": "display_data"
    }
   ],
   "source": [
    "loss_"
   ]
  },
  {
   "cell_type": "code",
   "execution_count": 107,
   "metadata": {},
   "outputs": [
    {
     "name": "stdout",
     "output_type": "stream",
     "text": [
      "Input:\n",
      "[4,42,62,81]\n"
     ]
    }
   ],
   "source": [
    "println(\"Input:\")\n",
    "\n",
    "println(\"[\" * string(a_[1]-1) * \",\" * string(b_[1]-1) * \",\" * string(c_[1]-1) * \",\" * string(d_[1]-1) * \"]\")"
   ]
  },
  {
   "cell_type": "code",
   "execution_count": 108,
   "metadata": {},
   "outputs": [
    {
     "name": "stdout",
     "output_type": "stream",
     "text": [
      "Output:\n",
      "[4,59,60,26]"
     ]
    }
   ],
   "source": [
    "l = length(a_)\n",
    "println(\"Output:\")\n",
    "print(\"[\" * string(a_[l]-1) * \",\" * string(b_[l]-1) * \",\" * string(c_[l]-1) * \",\" * string(d_[l]-1) * \"]\")"
   ]
  },
  {
   "cell_type": "code",
   "execution_count": 109,
   "metadata": {},
   "outputs": [
    {
     "data": {
      "text/plain": [
       "\"for i in 1:length(b_0_set)\\n    b_0_i = b_0_set[i]\\n    try\\n        coord_ab, coord_cd = mv(points = [a_0,b_0_i, c_0, d_0], start_points = true, input_file = input_file, output_file = output_file, double_penetration = true)\\n        l = loss([a_0,b_0_i,c_0,d_0], coord_ab, \" ⋯ 1385 bytes ⋯ \"), rand(floor(Int, l/4):floor(Int, l/2)), rand(floor(Int, l/2):floor(Int,3*l/4)), rand(floor(Int, 3*l/4):l)\\n    coord_ab, coord_cd = mv(points = [a_0,b_0, c_0, d_0], start_points = true, input_file = input_file, output_file = output_file, double_penetration = true)\\nend\\n\""
      ]
     },
     "metadata": {},
     "output_type": "display_data"
    }
   ],
   "source": [
    "\"\"\"\n",
    "for i in 1:length(b_0_set)\n",
    "    b_0_i = b_0_set[i]\n",
    "    try\n",
    "        coord_ab, coord_cd = mv(points = [a_0,b_0_i, c_0, d_0], start_points = true, input_file = input_file, output_file = output_file, double_penetration = true)\n",
    "        l = loss([a_0,b_0_i,c_0,d_0], coord_ab, coord_cd)\n",
    "        if  l < min_loss\n",
    "            min_loss = l\n",
    "            b_0 = b_0_i\n",
    "\n",
    "        end\n",
    "    catch\n",
    "        println(\"Starting points suck = \", [a_0,b_0_i, c_0, d_0], \"   \", b_0_i)\n",
    "        breal\n",
    "        \n",
    "    end     \n",
    "\n",
    "\n",
    "\n",
    "\n",
    "end\n",
    "\n",
    "\n",
    "for i in 1:length(c_0_set)\n",
    "    c_0_i = c_0_set[i]\n",
    "    try\n",
    "        coord_ab, coord_cd = mv(points = [a_0,b_0, c_0_i, d_0], start_points = true, input_file = input_file, output_file = output_file, double_penetration = true)\n",
    "        l = loss([a_0,b_0,c_0_i,d_0], coord_ab, coord_cd)\n",
    "        if  l < min_loss\n",
    "            min_loss = l\n",
    "            c_0 = c_0_i\n",
    "\n",
    "        end\n",
    "    catch\n",
    "        println(\"Starting points suck = \", [a_0,b_0, c_0_i, d_0], \"   \", c_0_i)\n",
    "        break\n",
    "        \n",
    "    end        \n",
    "end\n",
    "\n",
    "for i in 1:length(d_0_set)\n",
    "    d_0_i = d_0_set[i]\n",
    "    try\n",
    "        coord_ab, coord_cd = mv(points = [a_0,b_0, c_0, d_0_i], start_points = true, input_file = input_file, output_file = output_file, double_penetration = true)\n",
    "        l = loss([a_0,b_0,c_0,d_0_i], coord_ab, coord_cd)\n",
    "        if  l < min_loss\n",
    "            min_loss = l\n",
    "            d_0 = d_0_i\n",
    "        end\n",
    "    catch\n",
    "        println(\"Starting points suck = \", [a_0,b_0, c_0, d_0_i], \"   \", d_0_i)\n",
    "        break\n",
    "    end     \n",
    "    \n",
    "\n",
    "end\n",
    "\n",
    "try \n",
    "    coord_ab, coord_cd\n",
    "catch\n",
    "    l = lll\n",
    "    println(\"Ok, points suck, try new points\",  [a_0,b_0,c_0,d_0] )\n",
    "    a_0,b_0,c_0,d_0= rand(1:floor(Int, l/4)), rand(floor(Int, l/4):floor(Int, l/2)), rand(floor(Int, l/2):floor(Int,3*l/4)), rand(floor(Int, 3*l/4):l)\n",
    "    coord_ab, coord_cd = mv(points = [a_0,b_0, c_0, d_0], start_points = true, input_file = input_file, output_file = output_file, double_penetration = true)\n",
    "end\n",
    "\"\"\""
   ]
  }
 ],
 "metadata": {
  "kernelspec": {
   "display_name": "Julia 1.8.3",
   "language": "julia",
   "name": "julia-1.8"
  },
  "language_info": {
   "file_extension": ".jl",
   "mimetype": "application/julia",
   "name": "julia",
   "version": "1.8.3"
  },
  "orig_nbformat": 4,
  "vscode": {
   "interpreter": {
    "hash": "a665b5d41d17b532ea9890333293a1b812fa0b73c9c25c950b3cedf1bebd0438"
   }
  }
 },
 "nbformat": 4,
 "nbformat_minor": 2
}
